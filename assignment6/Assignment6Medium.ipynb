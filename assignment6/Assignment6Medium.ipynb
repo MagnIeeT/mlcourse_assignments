{
 "cells": [
  {
   "cell_type": "code",
   "execution_count": 36,
   "metadata": {},
   "outputs": [],
   "source": [
    "import os\n",
    "import json\n",
    "from tqdm import tqdm_notebook\n",
    "import numpy as np\n",
    "import pandas as pd\n",
    "from sklearn.feature_extraction.text import TfidfVectorizer, CountVectorizer\n",
    "from sklearn.metrics import mean_absolute_error\n",
    "from scipy.sparse import csr_matrix, hstack,coo_matrix\n",
    "from sklearn.linear_model import Ridge, RidgeCV\n",
    "from sklearn.model_selection import TimeSeriesSplit\n",
    "\n",
    "from bs4 import BeautifulSoup\n",
    "from sklearn.linear_model import Lasso, LassoCV\n",
    "\n",
    "from sklearn.preprocessing import OneHotEncoder, LabelEncoder, MinMaxScaler \n",
    "from sklearn.preprocessing import StandardScaler\n",
    "from sklearn.model_selection import GridSearchCV, cross_val_score"
   ]
  },
  {
   "cell_type": "code",
   "execution_count": 97,
   "metadata": {},
   "outputs": [],
   "source": [
    "%matplotlib inline"
   ]
  },
  {
   "cell_type": "code",
   "execution_count": 5,
   "metadata": {},
   "outputs": [],
   "source": [
    "PATH_TO_DATA = './data/Medium/traintestunsorted' "
   ]
  },
  {
   "cell_type": "code",
   "execution_count": 106,
   "metadata": {},
   "outputs": [
    {
     "name": "stdout",
     "output_type": "stream",
     "text": [
      "Wall time: 4.52 s\n"
     ]
    }
   ],
   "source": [
    "%%time\n",
    "tfidf_title = TfidfVectorizer(ngram_range=(1,2),max_features=50000)\n",
    "\n",
    "with open('train_titles.txt',encoding=\"utf8\") as train_content:\n",
    "    X_train_title_sparse = tfidf_title.fit_transform(train_content)\n",
    "\n",
    "with open('test_titles.txt',encoding=\"utf8\") as test_content:\n",
    "    X_test_title_sparse = tfidf_title.transform(test_content)"
   ]
  },
  {
   "cell_type": "code",
   "execution_count": 110,
   "metadata": {},
   "outputs": [
    {
     "name": "stdout",
     "output_type": "stream",
     "text": [
      "Wall time: 9min 27s\n"
     ]
    }
   ],
   "source": [
    "%%time\n",
    "tfidf_content = TfidfVectorizer(ngram_range=(1,2),max_features=100000,min_df=0.1)\n",
    "\n",
    "with open(os.path.join(PATH_TO_DATA,'train_content.txt'),encoding=\"utf8\") as train_content:\n",
    "    X_train_content_sparse = tfidf_content.fit_transform(train_content)\n",
    "\n",
    "with open(os.path.join(PATH_TO_DATA,'test_content.txt'),encoding=\"utf8\") as test_content:\n",
    "    X_test_content_sparse = tfidf_content.transform(test_content)"
   ]
  },
  {
   "cell_type": "code",
   "execution_count": 123,
   "metadata": {},
   "outputs": [],
   "source": [
    "from scipy import sparse\n",
    "\n",
    "sparse.save_npz(\"./data/medium/X_test_content_sparse_bigram_correct.npz\", X_test_content_sparse)\n",
    "X_test_content_sparse = sparse.load_npz(\"./data/medium/X_test_content_sparse_bigram_correct.npz\")\n",
    "\n",
    "sparse.save_npz(\"./data/medium/X_train_content_sparse_bigram_correct.npz\", X_train_content_sparse)\n",
    "X_train_content_sparse = sparse.load_npz(\"./data/medium/X_train_content_sparse_bigram_correct.npz\")"
   ]
  },
  {
   "cell_type": "code",
   "execution_count": 111,
   "metadata": {},
   "outputs": [
    {
     "data": {
      "text/plain": [
       "((62313, 1471), (34645, 1471))"
      ]
     },
     "execution_count": 111,
     "metadata": {},
     "output_type": "execute_result"
    }
   ],
   "source": [
    "X_train_content_sparse.shape,X_test_content_sparse.shape"
   ]
  },
  {
   "cell_type": "code",
   "execution_count": 108,
   "metadata": {},
   "outputs": [
    {
     "name": "stdout",
     "output_type": "stream",
     "text": [
      "Wall time: 1.93 s\n"
     ]
    }
   ],
   "source": [
    "%%time\n",
    "tfidf_tags = TfidfVectorizer(ngram_range=(1,2),max_features=50000)\n",
    "\n",
    "with open(os.path.join(PATH_TO_DATA,'train_tags.txt'),encoding=\"utf8\") as train_content:\n",
    "    X_train_tags_sparse = tfidf_tags.fit_transform(train_content)\n",
    "\n",
    "with open(os.path.join(PATH_TO_DATA,'test_tags.txt'),encoding=\"utf8\") as test_content:\n",
    "    X_test_tags_sparse = tfidf_tags.transform(test_content)"
   ]
  },
  {
   "cell_type": "code",
   "execution_count": null,
   "metadata": {},
   "outputs": [],
   "source": []
  },
  {
   "cell_type": "code",
   "execution_count": null,
   "metadata": {},
   "outputs": [],
   "source": []
  },
  {
   "cell_type": "code",
   "execution_count": 112,
   "metadata": {},
   "outputs": [],
   "source": [
    "train_target = pd.read_csv(os.path.join(PATH_TO_DATA, 'train_log1p_recommends.csv'), \n",
    "                           index_col='id')\n",
    "y_train = train_target['log_recommends'].values"
   ]
  },
  {
   "cell_type": "code",
   "execution_count": 113,
   "metadata": {},
   "outputs": [],
   "source": [
    "X_train_sparse = hstack([X_train_content_sparse,X_train_tags_sparse,X_train_title_sparse]).tocsr()\n",
    "X_test_sparse = hstack([X_test_content_sparse,X_test_tags_sparse,X_test_title_sparse]).tocsr()"
   ]
  },
  {
   "cell_type": "code",
   "execution_count": 114,
   "metadata": {},
   "outputs": [],
   "source": [
    "train_part_size = int(0.7 * train_target.shape[0])\n",
    "X_train_part = X_train_sparse[:train_part_size, :]\n",
    "y_train_part = y_train[:train_part_size]\n",
    "X_valid =  X_train_sparse[train_part_size:, :]\n",
    "y_valid = y_train[train_part_size:]"
   ]
  },
  {
   "cell_type": "code",
   "execution_count": 115,
   "metadata": {},
   "outputs": [],
   "source": [
    "ridge = Ridge(random_state=17)"
   ]
  },
  {
   "cell_type": "code",
   "execution_count": 116,
   "metadata": {},
   "outputs": [
    {
     "name": "stdout",
     "output_type": "stream",
     "text": [
      "Wall time: 10.3 s\n"
     ]
    }
   ],
   "source": [
    "%%time\n",
    "ridge.fit(X_train_part, np.log1p(y_train_part));\n",
    "ridge_pred = np.expm1(ridge.predict(X_valid))"
   ]
  },
  {
   "cell_type": "code",
   "execution_count": 16,
   "metadata": {},
   "outputs": [],
   "source": [
    "# !pip install lightgbm"
   ]
  },
  {
   "cell_type": "markdown",
   "metadata": {},
   "source": [
    "### XBM"
   ]
  },
  {
   "cell_type": "code",
   "execution_count": 124,
   "metadata": {},
   "outputs": [],
   "source": [
    "import lightgbm as lgb"
   ]
  },
  {
   "cell_type": "code",
   "execution_count": 80,
   "metadata": {},
   "outputs": [],
   "source": [
    "lgb_x_train_part = lgb.Dataset(X_train_part.astype(np.float32), label=np.log1p(y_train_part))\n",
    "\n",
    "lgb_x_valid = lgb.Dataset(X_valid.astype(np.float32), label=np.log1p(y_valid))"
   ]
  },
  {
   "cell_type": "code",
   "execution_count": 81,
   "metadata": {},
   "outputs": [],
   "source": [
    "param = {'num_leaves': 31, 'num_trees': 100, 'objective': 'mean_absolute_error',\n",
    "        'metric': 'mae'}"
   ]
  },
  {
   "cell_type": "code",
   "execution_count": 82,
   "metadata": {
    "scrolled": true
   },
   "outputs": [
    {
     "name": "stderr",
     "output_type": "stream",
     "text": [
      "C:\\Users\\h213139\\AppData\\Local\\Continuum\\anaconda3\\lib\\site-packages\\lightgbm\\engine.py:116: UserWarning: Found `num_trees` in params. Will use it instead of argument\n",
      "  warnings.warn(\"Found `{}` in params. Will use it instead of argument\".format(alias))\n"
     ]
    },
    {
     "name": "stdout",
     "output_type": "stream",
     "text": [
      "[1]\tvalid_0's l1: 0.383812\n",
      "Training until validation scores don't improve for 20 rounds.\n",
      "[2]\tvalid_0's l1: 0.380463\n",
      "[3]\tvalid_0's l1: 0.377526\n",
      "[4]\tvalid_0's l1: 0.375025\n",
      "[5]\tvalid_0's l1: 0.37299\n",
      "[6]\tvalid_0's l1: 0.37136\n",
      "[7]\tvalid_0's l1: 0.369958\n",
      "[8]\tvalid_0's l1: 0.368687\n",
      "[9]\tvalid_0's l1: 0.367477\n",
      "[10]\tvalid_0's l1: 0.366351\n",
      "[11]\tvalid_0's l1: 0.36536\n",
      "[12]\tvalid_0's l1: 0.3645\n",
      "[13]\tvalid_0's l1: 0.363846\n",
      "[14]\tvalid_0's l1: 0.362997\n",
      "[15]\tvalid_0's l1: 0.362376\n",
      "[16]\tvalid_0's l1: 0.361708\n",
      "[17]\tvalid_0's l1: 0.361195\n",
      "[18]\tvalid_0's l1: 0.360772\n",
      "[19]\tvalid_0's l1: 0.360342\n",
      "[20]\tvalid_0's l1: 0.359946\n",
      "[21]\tvalid_0's l1: 0.359723\n",
      "[22]\tvalid_0's l1: 0.359495\n",
      "[23]\tvalid_0's l1: 0.359159\n",
      "[24]\tvalid_0's l1: 0.358936\n",
      "[25]\tvalid_0's l1: 0.358572\n",
      "[26]\tvalid_0's l1: 0.358414\n",
      "[27]\tvalid_0's l1: 0.358068\n",
      "[28]\tvalid_0's l1: 0.357789\n",
      "[29]\tvalid_0's l1: 0.357521\n",
      "[30]\tvalid_0's l1: 0.357229\n",
      "[31]\tvalid_0's l1: 0.357035\n",
      "[32]\tvalid_0's l1: 0.356822\n",
      "[33]\tvalid_0's l1: 0.356586\n",
      "[34]\tvalid_0's l1: 0.356472\n",
      "[35]\tvalid_0's l1: 0.356264\n",
      "[36]\tvalid_0's l1: 0.356174\n",
      "[37]\tvalid_0's l1: 0.355901\n",
      "[38]\tvalid_0's l1: 0.35578\n",
      "[39]\tvalid_0's l1: 0.355637\n",
      "[40]\tvalid_0's l1: 0.355402\n",
      "[41]\tvalid_0's l1: 0.355213\n",
      "[42]\tvalid_0's l1: 0.355071\n",
      "[43]\tvalid_0's l1: 0.354856\n",
      "[44]\tvalid_0's l1: 0.354717\n",
      "[45]\tvalid_0's l1: 0.354555\n",
      "[46]\tvalid_0's l1: 0.35445\n",
      "[47]\tvalid_0's l1: 0.354369\n",
      "[48]\tvalid_0's l1: 0.354305\n",
      "[49]\tvalid_0's l1: 0.354253\n",
      "[50]\tvalid_0's l1: 0.354198\n",
      "[51]\tvalid_0's l1: 0.354078\n",
      "[52]\tvalid_0's l1: 0.353922\n",
      "[53]\tvalid_0's l1: 0.353829\n",
      "[54]\tvalid_0's l1: 0.353725\n",
      "[55]\tvalid_0's l1: 0.353585\n",
      "[56]\tvalid_0's l1: 0.353486\n",
      "[57]\tvalid_0's l1: 0.353402\n",
      "[58]\tvalid_0's l1: 0.353266\n",
      "[59]\tvalid_0's l1: 0.353206\n",
      "[60]\tvalid_0's l1: 0.353099\n",
      "[61]\tvalid_0's l1: 0.353022\n",
      "[62]\tvalid_0's l1: 0.352907\n",
      "[63]\tvalid_0's l1: 0.35287\n",
      "[64]\tvalid_0's l1: 0.35276\n",
      "[65]\tvalid_0's l1: 0.35272\n",
      "[66]\tvalid_0's l1: 0.35262\n",
      "[67]\tvalid_0's l1: 0.352573\n",
      "[68]\tvalid_0's l1: 0.35247\n",
      "[69]\tvalid_0's l1: 0.352407\n",
      "[70]\tvalid_0's l1: 0.352387\n",
      "[71]\tvalid_0's l1: 0.35227\n",
      "[72]\tvalid_0's l1: 0.352202\n",
      "[73]\tvalid_0's l1: 0.352112\n",
      "[74]\tvalid_0's l1: 0.351962\n",
      "[75]\tvalid_0's l1: 0.351886\n",
      "[76]\tvalid_0's l1: 0.351808\n",
      "[77]\tvalid_0's l1: 0.351779\n",
      "[78]\tvalid_0's l1: 0.351707\n",
      "[79]\tvalid_0's l1: 0.351673\n",
      "[80]\tvalid_0's l1: 0.351614\n",
      "[81]\tvalid_0's l1: 0.351513\n",
      "[82]\tvalid_0's l1: 0.351416\n",
      "[83]\tvalid_0's l1: 0.351323\n",
      "[84]\tvalid_0's l1: 0.351279\n",
      "[85]\tvalid_0's l1: 0.351227\n",
      "[86]\tvalid_0's l1: 0.351185\n",
      "[87]\tvalid_0's l1: 0.35117\n",
      "[88]\tvalid_0's l1: 0.3511\n",
      "[89]\tvalid_0's l1: 0.351122\n",
      "[90]\tvalid_0's l1: 0.351015\n",
      "[91]\tvalid_0's l1: 0.351061\n",
      "[92]\tvalid_0's l1: 0.351058\n",
      "[93]\tvalid_0's l1: 0.351044\n",
      "[94]\tvalid_0's l1: 0.351036\n",
      "[95]\tvalid_0's l1: 0.35104\n",
      "[96]\tvalid_0's l1: 0.351005\n",
      "[97]\tvalid_0's l1: 0.350994\n",
      "[98]\tvalid_0's l1: 0.350972\n",
      "[99]\tvalid_0's l1: 0.350935\n",
      "[100]\tvalid_0's l1: 0.350843\n",
      "Did not meet early stopping. Best iteration is:\n",
      "[100]\tvalid_0's l1: 0.350843\n"
     ]
    }
   ],
   "source": [
    "num_round = 100\n",
    "bst_lgb = lgb.train(param, lgb_x_train_part, num_round, valid_sets=[lgb_x_valid], early_stopping_rounds=20)"
   ]
  },
  {
   "cell_type": "code",
   "execution_count": 83,
   "metadata": {},
   "outputs": [],
   "source": [
    "lgb_pred = np.expm1(bst_lgb.predict(X_valid.astype(np.float32),num_iteration=bst_lgb.best_iteration))"
   ]
  },
  {
   "cell_type": "markdown",
   "metadata": {},
   "source": [
    "### Accuracy"
   ]
  },
  {
   "cell_type": "code",
   "execution_count": 84,
   "metadata": {},
   "outputs": [
    {
     "data": {
      "text/plain": [
       "1.2416306111271085"
      ]
     },
     "execution_count": 84,
     "metadata": {},
     "output_type": "execute_result"
    }
   ],
   "source": [
    "ridge_valid_mae = mean_absolute_error(y_valid, ridge_pred)\n",
    "ridge_valid_mae"
   ]
  },
  {
   "cell_type": "code",
   "execution_count": 70,
   "metadata": {},
   "outputs": [
    {
     "data": {
      "text/plain": [
       "1.3591954788378717"
      ]
     },
     "execution_count": 70,
     "metadata": {},
     "output_type": "execute_result"
    }
   ],
   "source": [
    "ridge_valid_mae = mean_absolute_error(y_valid, ridge_pred)\n",
    "ridge_valid_mae"
   ]
  },
  {
   "cell_type": "code",
   "execution_count": 85,
   "metadata": {},
   "outputs": [
    {
     "data": {
      "text/plain": [
       "1.2986755816955775"
      ]
     },
     "execution_count": 85,
     "metadata": {},
     "output_type": "execute_result"
    }
   ],
   "source": [
    "lgb_valid_mae = mean_absolute_error(y_valid, lgb_pred)\n",
    "lgb_valid_mae"
   ]
  },
  {
   "cell_type": "code",
   "execution_count": 71,
   "metadata": {},
   "outputs": [
    {
     "data": {
      "text/plain": [
       "1.3003713117467555"
      ]
     },
     "execution_count": 71,
     "metadata": {},
     "output_type": "execute_result"
    }
   ],
   "source": [
    "lgb_valid_mae = mean_absolute_error(y_valid, lgb_pred)\n",
    "lgb_valid_mae"
   ]
  },
  {
   "cell_type": "code",
   "execution_count": 86,
   "metadata": {},
   "outputs": [
    {
     "data": {
      "text/plain": [
       "1.2524008803758988"
      ]
     },
     "execution_count": 86,
     "metadata": {},
     "output_type": "execute_result"
    }
   ],
   "source": [
    "mean_absolute_error(y_valid, .6 * lgb_pred + .4 * ridge_pred)"
   ]
  },
  {
   "cell_type": "code",
   "execution_count": 72,
   "metadata": {},
   "outputs": [
    {
     "data": {
      "text/plain": [
       "1.2699169814666293"
      ]
     },
     "execution_count": 72,
     "metadata": {},
     "output_type": "execute_result"
    }
   ],
   "source": [
    "mean_absolute_error(y_valid, .6 * lgb_pred + .4 * ridge_pred)"
   ]
  },
  {
   "cell_type": "code",
   "execution_count": 119,
   "metadata": {},
   "outputs": [
    {
     "data": {
      "text/plain": [
       "1.1898277153303745"
      ]
     },
     "execution_count": 119,
     "metadata": {},
     "output_type": "execute_result"
    }
   ],
   "source": [
    "ridge_valid_mae = mean_absolute_error(y_valid, ridge_pred)\n",
    "ridge_valid_mae"
   ]
  },
  {
   "cell_type": "code",
   "execution_count": null,
   "metadata": {},
   "outputs": [],
   "source": [
    "lgb_valid_mae = mean_absolute_error(y_valid, lgb_pred)\n",
    "mean_absolute_error(y_valid, .6 * lgb_pred + .4 * ridge_pred), ridge_valid_mae, lgb_valid_mae"
   ]
  },
  {
   "cell_type": "markdown",
   "metadata": {},
   "source": [
    "### fit both model/Blending"
   ]
  },
  {
   "cell_type": "code",
   "execution_count": 120,
   "metadata": {},
   "outputs": [
    {
     "name": "stdout",
     "output_type": "stream",
     "text": [
      "Wall time: 17.1 s\n"
     ]
    }
   ],
   "source": [
    "%%time\n",
    "ridge.fit(X_train_sparse, np.log1p(y_train));\n",
    "ridge_test_pred = np.expm1(ridge.predict(X_test_sparse))"
   ]
  },
  {
   "cell_type": "code",
   "execution_count": 125,
   "metadata": {},
   "outputs": [
    {
     "name": "stderr",
     "output_type": "stream",
     "text": [
      "C:\\Users\\h213139\\AppData\\Local\\Continuum\\anaconda3\\lib\\site-packages\\lightgbm\\engine.py:116: UserWarning: Found `num_trees` in params. Will use it instead of argument\n",
      "  warnings.warn(\"Found `{}` in params. Will use it instead of argument\".format(alias))\n"
     ]
    }
   ],
   "source": [
    "lgb_x_train = lgb.Dataset(X_train_sparse.astype(np.float32),\n",
    "                          label=np.log1p(y_train))\n",
    "\n",
    "num_round = 100\n",
    "bst_lgb = lgb.train(param, lgb_x_train, num_round)\n",
    "\n",
    "lgb_test_pred = np.expm1(bst_lgb.predict(X_test_sparse.astype(np.float32)))"
   ]
  },
  {
   "cell_type": "code",
   "execution_count": 126,
   "metadata": {},
   "outputs": [
    {
     "data": {
      "text/plain": [
       "(4.333279999999999, 2.942546384637172)"
      ]
     },
     "execution_count": 126,
     "metadata": {},
     "output_type": "execute_result"
    }
   ],
   "source": [
    "mix_pred = .6 * lgb_test_pred + .4 * ridge_test_pred\n",
    "mix_pred_adjusted = mix_pred+ (4.33328 -mix_pred.mean())\n",
    "mix_pred_adjusted.mean(),mix_pred.mean()"
   ]
  },
  {
   "cell_type": "code",
   "execution_count": 121,
   "metadata": {},
   "outputs": [],
   "source": [
    "# ridge_test_pred_adjusted = ridge_test_pred+ (4.33328 -ridge_test_pred.mean())"
   ]
  },
  {
   "cell_type": "code",
   "execution_count": 127,
   "metadata": {},
   "outputs": [
    {
     "data": {
      "text/plain": [
       "<matplotlib.legend.Legend at 0x185d2f24080>"
      ]
     },
     "execution_count": 127,
     "metadata": {},
     "output_type": "execute_result"
    },
    {
     "data": {
      "image/png": "[encoded data removed]",
      "text/plain": [
       "<Figure size 432x288 with 1 Axes>"
      ]
     },
     "metadata": {},
     "output_type": "display_data"
    }
   ],
   "source": [
    "import matplotlib.pyplot as plt\n",
    "plt.hist(ridge_test_pred, bins=40, alpha=.5, color='green', label='ridge', range=(0,10));\n",
    "plt.hist(lgb_test_pred, bins=40, alpha=.5, color='blue', label='lgb', range=(0,10));\n",
    "plt.hist(mix_pred, bins=40, alpha=.5, color='yellow', label='mix', range=(0,10));\n",
    "plt.hist(mix_pred_adjusted, bins=40, alpha=.5, color='red', label='adjusted', range=(0,10));\n",
    "plt.legend()"
   ]
  },
  {
   "cell_type": "markdown",
   "metadata": {},
   "source": [
    "### Submission"
   ]
  },
  {
   "cell_type": "code",
   "execution_count": 93,
   "metadata": {},
   "outputs": [],
   "source": [
    "def write_submission_file(prediction, filename,\n",
    "                          path_to_sample=os.path.join(PATH_TO_DATA, 'sample_submission.csv')):\n",
    "    submission = pd.read_csv(path_to_sample, index_col='id')\n",
    "    \n",
    "    submission['log_recommends'] = prediction\n",
    "    submission.to_csv(filename)"
   ]
  },
  {
   "cell_type": "code",
   "execution_count": 33,
   "metadata": {},
   "outputs": [],
   "source": [
    "write_submission_file(mix_pred_adjusted, './assignment6_submissions/medium_submission_9.csv')\n",
    "#CV 1.1183674864649338 LB# 1.78865"
   ]
  },
  {
   "cell_type": "code",
   "execution_count": 94,
   "metadata": {},
   "outputs": [],
   "source": [
    "write_submission_file(mix_pred_adjusted, './assignment6_submissions/medium_submission_10.csv')\n",
    "#CV 1.1183674864649338 LB# 1.78865"
   ]
  },
  {
   "cell_type": "code",
   "execution_count": 128,
   "metadata": {},
   "outputs": [],
   "source": [
    "write_submission_file(mix_pred_adjusted, './assignment6_submissions/assignment6_medium_submission_adjusted_15.csv')\n",
    "#LB"
   ]
  },
  {
   "cell_type": "code",
   "execution_count": null,
   "metadata": {},
   "outputs": [],
   "source": []
  },
  {
   "cell_type": "code",
   "execution_count": null,
   "metadata": {},
   "outputs": [],
   "source": []
  },
  {
   "cell_type": "code",
   "execution_count": null,
   "metadata": {},
   "outputs": [],
   "source": []
  },
  {
   "cell_type": "code",
   "execution_count": null,
   "metadata": {},
   "outputs": [],
   "source": []
  },
  {
   "cell_type": "code",
   "execution_count": null,
   "metadata": {},
   "outputs": [],
   "source": []
  },
  {
   "cell_type": "code",
   "execution_count": null,
   "metadata": {},
   "outputs": [],
   "source": []
  },
  {
   "cell_type": "code",
   "execution_count": null,
   "metadata": {},
   "outputs": [],
   "source": []
  },
  {
   "cell_type": "code",
   "execution_count": null,
   "metadata": {},
   "outputs": [],
   "source": []
  },
  {
   "cell_type": "code",
   "execution_count": null,
   "metadata": {},
   "outputs": [],
   "source": []
  },
  {
   "cell_type": "code",
   "execution_count": null,
   "metadata": {},
   "outputs": [],
   "source": []
  },
  {
   "cell_type": "code",
   "execution_count": 52,
   "metadata": {},
   "outputs": [],
   "source": [
    "from html.parser import HTMLParser\n",
    "\n",
    "class MLStripper(HTMLParser):\n",
    "    def __init__(self):\n",
    "        self.reset()\n",
    "        self.strict = False\n",
    "        self.convert_charrefs= True\n",
    "        self.fed = []\n",
    "    def handle_data(self, d):\n",
    "        self.fed.append(d)\n",
    "    def get_data(self):\n",
    "        return ''.join(self.fed)\n",
    "\n",
    "def strip_tags(html):\n",
    "    s = MLStripper()\n",
    "    s.feed(html)\n",
    "    return s.get_data()"
   ]
  },
  {
   "cell_type": "code",
   "execution_count": 56,
   "metadata": {},
   "outputs": [],
   "source": [
    "def read_json_line(line=None):\n",
    "    result = None\n",
    "    try:        \n",
    "        result = json.loads(line)\n",
    "    except Exception as e:      \n",
    "        # Find the offending character index:\n",
    "        idx_to_replace = int(str(e).split(' ')[-1].replace(')',''))      \n",
    "        # Remove the offending character:\n",
    "        new_line = list(line)\n",
    "        new_line[idx_to_replace] = ' '\n",
    "        new_line = ''.join(new_line)     \n",
    "        return read_json_line(line=new_line)\n",
    "    return result"
   ]
  },
  {
   "cell_type": "code",
   "execution_count": 53,
   "metadata": {},
   "outputs": [],
   "source": [
    "def preprocess(path_to_inp_json_file, path_to_out_txt_file):\n",
    "    with open(path_to_inp_json_file, encoding='utf-8') as inp_file, open(path_to_out_txt_file, 'w', encoding='utf-8') as out_file:\n",
    "        for line in tqdm_notebook(inp_file):\n",
    "            json_data = read_json_line(line)\n",
    "            content = json_data['title'].replace('\\n', ' ').replace('\\r', ' ')\n",
    "            content_no_html_tags = strip_tags(content)\n",
    "            out_file.write(content_no_html_tags + '\\n')"
   ]
  },
  {
   "cell_type": "code",
   "execution_count": 57,
   "metadata": {},
   "outputs": [
    {
     "data": {
      "application/vnd.jupyter.widget-view+json": {
       "model_id": "67e5d5bf3daa46dfba5e1e043f78022b",
       "version_major": 2,
       "version_minor": 0
      },
      "text/plain": [
       "HBox(children=(IntProgress(value=1, bar_style='info', max=1), HTML(value='')))"
      ]
     },
     "metadata": {},
     "output_type": "display_data"
    },
    {
     "name": "stdout",
     "output_type": "stream",
     "text": [
      "\n",
      "Wall time: 38.5 s\n"
     ]
    }
   ],
   "source": [
    "%%time\n",
    "preprocess(path_to_inp_json_file=os.path.join('./data/Medium/', 'train.json'),\n",
    "           path_to_out_txt_file='train_titles.txt')"
   ]
  },
  {
   "cell_type": "code",
   "execution_count": 58,
   "metadata": {},
   "outputs": [
    {
     "data": {
      "application/vnd.jupyter.widget-view+json": {
       "model_id": "01441a37fef44669911c808a50c12093",
       "version_major": 2,
       "version_minor": 0
      },
      "text/plain": [
       "HBox(children=(IntProgress(value=1, bar_style='info', max=1), HTML(value='')))"
      ]
     },
     "metadata": {},
     "output_type": "display_data"
    },
    {
     "name": "stdout",
     "output_type": "stream",
     "text": [
      "\n",
      "Wall time: 23.9 s\n"
     ]
    }
   ],
   "source": [
    "%%time\n",
    "preprocess(path_to_inp_json_file=os.path.join('./data/Medium/', 'test.json'),\n",
    "           path_to_out_txt_file='test_titles.txt')"
   ]
  },
  {
   "cell_type": "code",
   "execution_count": null,
   "metadata": {},
   "outputs": [],
   "source": []
  }
 ],
 "metadata": {
  "kernelspec": {
   "display_name": "Python 3",
   "language": "python",
   "name": "python3"
  },
  "language_info": {
   "codemirror_mode": {
    "name": "ipython",
    "version": 3
   },
   "file_extension": ".py",
   "mimetype": "text/x-python",
   "name": "python",
   "nbconvert_exporter": "python",
   "pygments_lexer": "ipython3",
   "version": "3.6.5"
  }
 },
 "nbformat": 4,
 "nbformat_minor": 2
}
