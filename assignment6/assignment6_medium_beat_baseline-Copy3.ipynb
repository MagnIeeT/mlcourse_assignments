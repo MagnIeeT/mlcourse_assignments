{
 "cells": [
  {
   "cell_type": "markdown",
   "metadata": {},
   "source": [
    "<center>\n",
    "<img src=\"../../img/ods_stickers.jpg\" />\n",
    "    \n",
    "## [mlcourse.ai](https://mlcourse.ai) – Open Machine Learning Course \n",
    "Author: [Yury Kashnitskiy](https://yorko.github.io) (@yorko). Edited by Sergey Kolchenko (@KolchenkoSergey). This material is subject to the terms and conditions of the [Creative Commons CC BY-NC-SA 4.0](https://creativecommons.org/licenses/by-nc-sa/4.0/) license. Free use is permitted for any non-commercial purpose."
   ]
  },
  {
   "cell_type": "markdown",
   "metadata": {},
   "source": [
    "## <center>Assignment #6\n",
    "### <center> Beating baselines in \"How good is your Medium article?\"\n",
    "    \n",
    "<img src='../../img/medium_claps.jpg' width=40% />\n",
    "\n",
    "\n",
    "[Competition](https://www.kaggle.com/c/how-good-is-your-medium-article). The task is to beat \"A6 baseline\" (~1.45 Public LB score). Do not forget about our shared [\"primitive\" baseline](https://www.kaggle.com/kashnitsky/ridge-countvectorizer-baseline) - you'll find something valuable there.\n",
    "\n",
    "**Your task:**\n",
    " 1. \"Freeride\". Come up with good features to beat the baseline \"A6 baseline\" (for now, public LB is only considered)\n",
    " 2. You need to name your [team](https://www.kaggle.com/c/how-good-is-your-medium-article/team) (out of 1 person) in full accordance with the [course rating](https://drive.google.com/open?id=19AGEhUQUol6_kNLKSzBsjcGUU3qWy3BNUg8x8IFkO3Q). You can think of it as a part of the assignment. 16 credits for beating the mentioned baseline and correct team naming."
   ]
  },
  {
   "cell_type": "code",
   "execution_count": 2,
   "metadata": {},
   "outputs": [],
   "source": [
    "import os\n",
    "import json\n",
    "from tqdm import tqdm_notebook\n",
    "import numpy as np\n",
    "import pandas as pd\n",
    "from sklearn.feature_extraction.text import TfidfVectorizer\n",
    "from sklearn.metrics import mean_absolute_error\n",
    "from scipy.sparse import csr_matrix, hstack,coo_matrix\n",
    "from sklearn.linear_model import Ridge, RidgeCV\n",
    "from sklearn.model_selection import TimeSeriesSplit\n",
    "\n",
    "from bs4 import BeautifulSoup\n",
    "from sklearn.linear_model import Lasso, LassoCV\n",
    "\n",
    "from sklearn.preprocessing import OneHotEncoder, LabelEncoder, MinMaxScaler\n",
    "from sklearn.model_selection import GridSearchCV, cross_val_score"
   ]
  },
  {
   "cell_type": "markdown",
   "metadata": {},
   "source": [
    "The following code will help to throw away all HTML tags from an article content."
   ]
  },
  {
   "cell_type": "code",
   "execution_count": 2,
   "metadata": {},
   "outputs": [],
   "source": [
    "from html.parser import HTMLParser\n",
    "\n",
    "class MLStripper(HTMLParser):\n",
    "    def __init__(self):\n",
    "        self.reset()\n",
    "        self.strict = False\n",
    "        self.convert_charrefs= True\n",
    "        self.fed = []\n",
    "    def handle_data(self, d):\n",
    "        self.fed.append(d)\n",
    "    def get_data(self):\n",
    "        return ''.join(self.fed)\n",
    "\n",
    "def strip_tags(html):\n",
    "    s = MLStripper()\n",
    "    s.feed(html)\n",
    "    return s.get_data()"
   ]
  },
  {
   "cell_type": "markdown",
   "metadata": {},
   "source": [
    "Supplementary function to read a JSON line without crashing on escape characters."
   ]
  },
  {
   "cell_type": "code",
   "execution_count": 3,
   "metadata": {},
   "outputs": [],
   "source": [
    "def read_json_line(line=None):\n",
    "    result = None\n",
    "    try:        \n",
    "        result = json.loads(line)\n",
    "    except Exception as e:      \n",
    "        # Find the offending character index:\n",
    "        idx_to_replace = int(str(e).split(' ')[-1].replace(')',''))      \n",
    "        # Remove the offending character:\n",
    "        new_line = list(line)\n",
    "        new_line[idx_to_replace] = ' '\n",
    "        new_line = ''.join(new_line)     \n",
    "        return read_json_line(line=new_line)\n",
    "    return result"
   ]
  },
  {
   "cell_type": "markdown",
   "metadata": {},
   "source": [
    "Extract features `content`, `published`, `title` and `author`, write them to separate files for train and test sets."
   ]
  },
  {
   "cell_type": "code",
   "execution_count": 5,
   "metadata": {},
   "outputs": [],
   "source": [
    "def extract_features_and_write(path_to_data,\n",
    "                               inp_filename, is_train=True):  \n",
    "            \n",
    "    content_list = []\n",
    "    published_list =[]\n",
    "    title_list =[]\n",
    "    author_list =[]\n",
    "    domain_list =[]\n",
    "    tags_list = []\n",
    "    \n",
    "\n",
    "    with open(os.path.join(path_to_data, inp_filename), \n",
    "              encoding='utf-8') as inp_json_file:\n",
    "        \n",
    "        for line in tqdm_notebook(inp_json_file):\n",
    "            json_data = read_json_line(line)\n",
    "            \n",
    "            \n",
    "            content = json_data['content'].replace('\\n',' ').replace('\\r',' ')\n",
    "            content_list.append(strip_tags(content))\n",
    "            \n",
    "            published_list.append(json_data['published']['$date'])\n",
    "            \n",
    "            title_list.append(strip_tags(json_data['title']).split('\\u2013')[0].strip().replace('\\n',' ').replace('\\r',' '))\n",
    "            \n",
    "            author_list.append(json_data['meta_tags']['author'].strip())\n",
    "            \n",
    "            domain_list.append(json_data['domain'])\n",
    "            \n",
    "            tags_str = []\n",
    "            soup = BeautifulSoup(content, 'lxml')\n",
    "            try:\n",
    "                tag_block = soup.find('ul', class_='tags')\n",
    "                tags = tag_block.find_all('a')\n",
    "                for tag in tags:\n",
    "                    tags_str.append(tag.text.translate({ord(' '):None, ord('-'):None}))\n",
    "                tags = ' '.join(tags_str)\n",
    "            except Exception:\n",
    "                tags = 'None'\n",
    "            \n",
    "            tags_list.append(tags)\n",
    "            \n",
    "        df = pd.DataFrame()\n",
    "        df['content'] = content_list\n",
    "        df['published'] = pd.to_datetime(published_list, format='%Y-%m-%dT%H:%M:%S.%fZ')\n",
    "        df['title'] = title_list\n",
    "        df['author'] = author_list\n",
    "        df['domain'] = domain_list\n",
    "        df['tags'] = tags_list\n",
    "        \n",
    "        if is_train:\n",
    "            df.sort_values(by ='published',inplace=True)\n",
    "\n",
    "        features = ['content', 'published', 'title', 'author', 'domain', 'tags']\n",
    "    \n",
    "        prefix = 'train' if is_train else 'test'\n",
    "        \n",
    "        for feat in features:\n",
    "            df[feat].to_csv(os.path.join(path_to_data,'{}_{}.txt'.format(prefix, feat)),sep=' ',index=None,header =None)\n",
    "\n"
   ]
  },
  {
   "cell_type": "code",
   "execution_count": 248,
   "metadata": {},
   "outputs": [],
   "source": [
    "PATH_TO_DATA = './data/Medium/trainsortedtestnormal' "
   ]
  },
  {
   "cell_type": "code",
   "execution_count": 8,
   "metadata": {},
   "outputs": [
    {
     "data": {
      "application/vnd.jupyter.widget-view+json": {
       "model_id": "561380c2c5754c7cbd49bddbbcb8b484",
       "version_major": 2,
       "version_minor": 0
      },
      "text/plain": [
       "HBox(children=(IntProgress(value=1, bar_style='info', max=1), HTML(value='')))"
      ]
     },
     "metadata": {},
     "output_type": "display_data"
    },
    {
     "name": "stdout",
     "output_type": "stream",
     "text": [
      "\n"
     ]
    }
   ],
   "source": [
    "# extract_features_and_write(PATH_TO_DATA, 'train.json', is_train=True)"
   ]
  },
  {
   "cell_type": "code",
   "execution_count": 9,
   "metadata": {},
   "outputs": [
    {
     "data": {
      "application/vnd.jupyter.widget-view+json": {
       "model_id": "09864886c69e4869b0f2df2f9d8c8443",
       "version_major": 2,
       "version_minor": 0
      },
      "text/plain": [
       "HBox(children=(IntProgress(value=1, bar_style='info', max=1), HTML(value='')))"
      ]
     },
     "metadata": {},
     "output_type": "display_data"
    },
    {
     "name": "stdout",
     "output_type": "stream",
     "text": [
      "\n"
     ]
    }
   ],
   "source": [
    "# extract_features_and_write(PATH_TO_DATA, 'test.json', is_train=False)"
   ]
  },
  {
   "cell_type": "code",
   "execution_count": null,
   "metadata": {},
   "outputs": [],
   "source": []
  },
  {
   "cell_type": "code",
   "execution_count": 241,
   "metadata": {},
   "outputs": [
    {
     "name": "stdout",
     "output_type": "stream",
     "text": [
      "Wall time: 11min 41s\n"
     ]
    }
   ],
   "source": [
    "%%time\n",
    "tfidf_content = TfidfVectorizer(os.path.join(PATH_TO_DATA,'train_content.txt'),ngram_range=(1,2),max_features=100000)\n",
    "\n",
    "with open(os.path.join(PATH_TO_DATA,'train_content.txt'),encoding=\"utf8\") as train_content:\n",
    "    X_train_content_sparse = tfidf_content.fit_transform(train_content)\n",
    "\n",
    "with open(os.path.join(PATH_TO_DATA,'test_content.txt'),encoding=\"utf8\") as test_content:\n",
    "    X_test_content_sparse = tfidf_content.fit_transform(test_content)"
   ]
  },
  {
   "cell_type": "code",
   "execution_count": 11,
   "metadata": {},
   "outputs": [
    {
     "data": {
      "text/plain": [
       "((62313, 100000), (34645, 100000))"
      ]
     },
     "execution_count": 11,
     "metadata": {},
     "output_type": "execute_result"
    }
   ],
   "source": [
    "X_train_content_sparse.shape,X_test_content_sparse.shape"
   ]
  },
  {
   "cell_type": "markdown",
   "metadata": {},
   "source": [
    "### saving for quick access"
   ]
  },
  {
   "cell_type": "code",
   "execution_count": 12,
   "metadata": {},
   "outputs": [],
   "source": [
    "from scipy import sparse\n",
    "\n",
    "sparse.save_npz(\"./data/medium/X_test_content_sparse_total_bigram2.npz\", X_test_content_sparse)\n",
    "# X_test_content_sparse = sparse.load_npz(\"./data/medium/X_test_content_sparse_total.npz\")\n",
    "\n",
    "sparse.save_npz(\"./data/medium/X_train_content_sparse_total_bigram2.npz\", X_train_content_sparse)\n",
    "# X_train_content_sparse = sparse.load_npz(\"./data/medium/X_train_content_sparse_total.npz\")"
   ]
  },
  {
   "cell_type": "markdown",
   "metadata": {},
   "source": [
    "** Titles **"
   ]
  },
  {
   "cell_type": "code",
   "execution_count": 5,
   "metadata": {},
   "outputs": [],
   "source": [
    "tfidf_title = TfidfVectorizer(os.path.join(PATH_TO_DATA,'train_title.txt'),ngram_range=(1,2),max_features=100000)\n",
    "#                               strip_accents='unicode', stop_words='english')\n",
    "\n",
    "with open(os.path.join(PATH_TO_DATA,'train_title.txt'),encoding=\"utf8\") as train_title:\n",
    "    X_train_title_sparse = tfidf_title.fit_transform(train_title)\n",
    "    \n",
    "with open(os.path.join(PATH_TO_DATA,'test_title.txt'),encoding=\"utf8\") as test_title:\n",
    "    X_test_title_sparse = tfidf_title.fit_transform(test_title)"
   ]
  },
  {
   "cell_type": "code",
   "execution_count": 6,
   "metadata": {},
   "outputs": [
    {
     "data": {
      "text/plain": [
       "((62313, 100000), (34645, 100000))"
      ]
     },
     "execution_count": 6,
     "metadata": {},
     "output_type": "execute_result"
    }
   ],
   "source": [
    "X_train_title_sparse.shape,X_test_title_sparse.shape"
   ]
  },
  {
   "cell_type": "markdown",
   "metadata": {},
   "source": [
    "** tags **"
   ]
  },
  {
   "cell_type": "code",
   "execution_count": 161,
   "metadata": {},
   "outputs": [],
   "source": [
    "tfidf_tags = TfidfVectorizer(os.path.join(PATH_TO_DATA,'total_tags.txt'),ngram_range=(1,2),max_features=100000,stop_words='english')\n",
    "\n",
    "with open(os.path.join(PATH_TO_DATA,'train_tags.txt'),encoding=\"utf8\") as train_tags:\n",
    "    X_train_tags_sparse = tfidf_tags.fit_transform(train_tags)\n",
    "    \n",
    "with open(os.path.join(PATH_TO_DATA,'test_tags.txt'),encoding=\"utf8\") as test_tags:\n",
    "    X_test_tags_sparse = tfidf_tags.fit_transform(test_tags)"
   ]
  },
  {
   "cell_type": "code",
   "execution_count": 162,
   "metadata": {},
   "outputs": [
    {
     "data": {
      "text/plain": [
       "((62313, 100000), (34645, 100000))"
      ]
     },
     "execution_count": 162,
     "metadata": {},
     "output_type": "execute_result"
    }
   ],
   "source": [
    "X_train_tags_sparse.shape,X_test_tags_sparse.shape"
   ]
  },
  {
   "cell_type": "markdown",
   "metadata": {},
   "source": [
    "** Authors **"
   ]
  },
  {
   "cell_type": "code",
   "execution_count": 223,
   "metadata": {},
   "outputs": [
    {
     "data": {
      "text/plain": [
       "((62313, 5841), (34645, 5841))"
      ]
     },
     "execution_count": 223,
     "metadata": {},
     "output_type": "execute_result"
    }
   ],
   "source": [
    "train_author_ = pd.read_csv(os.path.join(PATH_TO_DATA,'train_author.txt'),header=None,usecols=[0],names=[\"authors\"])\n",
    "test_author_ = pd.read_csv(os.path.join(PATH_TO_DATA,'test_author.txt'),header=None,usecols=[0],names=[\"authors\"])\n",
    "\n",
    "authors = pd.concat([train_author_,test_author_],axis=0,sort=False)\n",
    "\n",
    "# train_author_list = set(train_author_.authors.value_counts().head(500).index)\n",
    "train_author_list = set(train_author_.authors.value_counts().index)\n",
    "test_author_list = set(test_author_.authors.value_counts().index)\n",
    "\n",
    "common_author = train_author_list.intersection(test_author_list)\n",
    "\n",
    "def encodecommonauthors(x):\n",
    "    if x in common_author: return x\n",
    "    else: return 'unknown'\n",
    "    \n",
    "authors = authors.authors.map(encodecommonauthors)\n",
    "\n",
    "authors = pd.get_dummies(authors,drop_first=True)\n",
    "\n",
    "X_train_author_sparse = authors.iloc[:train_author_.shape[0],:].values\n",
    "X_test_author_sparse  = authors.iloc[train_author_.shape[0]:,:].values\n",
    "\n",
    "X_train_author_sparse.shape, X_test_author_sparse.shape"
   ]
  },
  {
   "cell_type": "code",
   "execution_count": 246,
   "metadata": {},
   "outputs": [
    {
     "data": {
      "text/plain": [
       "((62313, 43885), (34645, 43885))"
      ]
     },
     "execution_count": 246,
     "metadata": {},
     "output_type": "execute_result"
    }
   ],
   "source": [
    "authors = pd.concat([train_author_,test_author_],axis=0,sort=False)\n",
    "authors = pd.get_dummies(authors)\n",
    "\n",
    "X_train_author_sparse = authors.iloc[:train_author_.shape[0],]\n",
    "X_test_author_sparse = authors.iloc[train_author_.shape[0]:,]\n",
    "\n",
    "X_train_author_sparse.shape, X_test_author_sparse.shape"
   ]
  },
  {
   "cell_type": "code",
   "execution_count": 219,
   "metadata": {},
   "outputs": [
    {
     "data": {
      "text/plain": [
       "((62313, 31331), (34645, 31331))"
      ]
     },
     "execution_count": 219,
     "metadata": {},
     "output_type": "execute_result"
    }
   ],
   "source": [
    "# train_author_ = pd.read_csv(os.path.join(PATH_TO_DATA,'train_author.txt'),header=None,usecols=[0],names=[\"authors\"])\n",
    "# test_author_ = pd.read_csv(os.path.join(PATH_TO_DATA,'test_author.txt'),header=None,usecols=[0],names=[\"authors\"])\n",
    "\n",
    "# authors = pd.concat([train_author_,test_author_],axis=0,sort=False)\n",
    "\n",
    "# LE = LabelEncoder()\n",
    "# LE.fit(authors.values.reshape(1,-1)[0])\n",
    "# X_train_author_LE = LE.transform(train_author_.values.reshape(1,-1)[0])\n",
    "# X_test_author_LE  = LE.transform(test_author_.values.reshape(1,-1)[0])\n",
    "\n",
    "# OHE = OneHotEncoder(handle_unknown='ignore')\n",
    "# OHE.fit(X_train_author_LE.reshape(-1,1))\n",
    "\n",
    "# X_train_author_sparse = OHE.transform(X_train_author_LE.reshape(-1,1))\n",
    "# X_test_author_sparse  = OHE.transform(X_test_author_LE.reshape(-1,1))\n",
    "\n",
    "# X_train_author_sparse.shape, X_test_author_sparse.shape"
   ]
  },
  {
   "cell_type": "markdown",
   "metadata": {},
   "source": [
    "** domain **"
   ]
  },
  {
   "cell_type": "code",
   "execution_count": 96,
   "metadata": {},
   "outputs": [
    {
     "data": {
      "text/plain": [
       "((62313, 2), (34645, 2))"
      ]
     },
     "execution_count": 96,
     "metadata": {},
     "output_type": "execute_result"
    }
   ],
   "source": [
    "from sklearn.preprocessing import OneHotEncoder, LabelEncoder\n",
    "\n",
    "train_domain_ = pd.read_csv(os.path.join(PATH_TO_DATA,'train_domain.txt'),header=None,usecols=[0],names=['domains'])\n",
    "test_domain_ = pd.read_csv(os.path.join(PATH_TO_DATA,'test_domain.txt'),header=None,usecols=[0],names = ['domains'])\n",
    "\n",
    "domains = pd.concat([train_domain_,test_domain_],axis=0,sort=False)\n",
    "\n",
    "def toptwodomain(x):\n",
    "    if x=='medium.com': return 0\n",
    "    elif x=='hackernoon.com': return 1\n",
    "    else: return 2\n",
    "domains = domains.domains.map(toptwodomain)\n",
    "\n",
    "domains = pd.get_dummies(domains,drop_first=True)\n",
    "\n",
    "X_train_domain_sparse = domains.iloc[:train_domain_.shape[0],:].values\n",
    "X_test_domain_sparse  = domains.iloc[train_domain_.shape[0]:,:].values\n",
    "\n",
    "X_train_domain_sparse.shape, X_test_domain_sparse.shape"
   ]
  },
  {
   "cell_type": "markdown",
   "metadata": {},
   "source": [
    "** Date Columns **"
   ]
  },
  {
   "cell_type": "code",
   "execution_count": 197,
   "metadata": {},
   "outputs": [
    {
     "data": {
      "text/html": [
       "<div>\n",
       "<style scoped>\n",
       "    .dataframe tbody tr th:only-of-type {\n",
       "        vertical-align: middle;\n",
       "    }\n",
       "\n",
       "    .dataframe tbody tr th {\n",
       "        vertical-align: top;\n",
       "    }\n",
       "\n",
       "    .dataframe thead th {\n",
       "        text-align: right;\n",
       "    }\n",
       "</style>\n",
       "<table border=\"1\" class=\"dataframe\">\n",
       "  <thead>\n",
       "    <tr style=\"text-align: right;\">\n",
       "      <th></th>\n",
       "      <th>index</th>\n",
       "      <th>date</th>\n",
       "      <th>authors</th>\n",
       "    </tr>\n",
       "  </thead>\n",
       "  <tbody>\n",
       "    <tr>\n",
       "      <th>0</th>\n",
       "      <td>0</td>\n",
       "      <td>1970-01-01 00:00:00.001</td>\n",
       "      <td>Susan Bratton</td>\n",
       "    </tr>\n",
       "    <tr>\n",
       "      <th>1</th>\n",
       "      <td>1</td>\n",
       "      <td>1970-01-01 00:00:00.001</td>\n",
       "      <td>Ryo Ooishi</td>\n",
       "    </tr>\n",
       "    <tr>\n",
       "      <th>2</th>\n",
       "      <td>2</td>\n",
       "      <td>1970-01-18 03:21:32.400</td>\n",
       "      <td>なぞちゅう</td>\n",
       "    </tr>\n",
       "    <tr>\n",
       "      <th>3</th>\n",
       "      <td>3</td>\n",
       "      <td>1987-12-08 21:45:00.000</td>\n",
       "      <td>Internet Corporation LLC</td>\n",
       "    </tr>\n",
       "    <tr>\n",
       "      <th>4</th>\n",
       "      <td>4</td>\n",
       "      <td>2003-12-29 17:00:00.000</td>\n",
       "      <td>Mackenzie Oldridge</td>\n",
       "    </tr>\n",
       "  </tbody>\n",
       "</table>\n",
       "</div>"
      ],
      "text/plain": [
       "   index                    date                   authors\n",
       "0      0 1970-01-01 00:00:00.001             Susan Bratton\n",
       "1      1 1970-01-01 00:00:00.001                Ryo Ooishi\n",
       "2      2 1970-01-18 03:21:32.400                     なぞちゅう\n",
       "3      3 1987-12-08 21:45:00.000  Internet Corporation LLC\n",
       "4      4 2003-12-29 17:00:00.000        Mackenzie Oldridge"
      ]
     },
     "execution_count": 197,
     "metadata": {},
     "output_type": "execute_result"
    }
   ],
   "source": [
    "X_time = pd.concat([X_train_time,X_test_time],axis=0)\n",
    "X_author = pd.concat([train_author_,test_author_],axis=0)\n",
    "X_time_author = pd.concat([X_time,X_author],axis=1).reset_index()\n",
    "# X_time_author.head()"
   ]
  },
  {
   "cell_type": "code",
   "execution_count": 199,
   "metadata": {},
   "outputs": [
    {
     "data": {
      "text/html": [
       "<div>\n",
       "<style scoped>\n",
       "    .dataframe tbody tr th:only-of-type {\n",
       "        vertical-align: middle;\n",
       "    }\n",
       "\n",
       "    .dataframe tbody tr th {\n",
       "        vertical-align: top;\n",
       "    }\n",
       "\n",
       "    .dataframe thead th {\n",
       "        text-align: right;\n",
       "    }\n",
       "</style>\n",
       "<table border=\"1\" class=\"dataframe\">\n",
       "  <thead>\n",
       "    <tr style=\"text-align: right;\">\n",
       "      <th></th>\n",
       "      <th>index</th>\n",
       "      <th>date</th>\n",
       "      <th>authors</th>\n",
       "    </tr>\n",
       "  </thead>\n",
       "  <tbody>\n",
       "    <tr>\n",
       "      <th>95867</th>\n",
       "      <td>33554</td>\n",
       "      <td>2018-03-02 21:24:11.820</td>\n",
       "      <td>Niklas Goeke</td>\n",
       "    </tr>\n",
       "    <tr>\n",
       "      <th>95868</th>\n",
       "      <td>33555</td>\n",
       "      <td>2018-03-02 21:40:53.066</td>\n",
       "      <td>Christopher D. Connors</td>\n",
       "    </tr>\n",
       "    <tr>\n",
       "      <th>96921</th>\n",
       "      <td>34608</td>\n",
       "      <td>2018-03-02 23:56:22.397</td>\n",
       "      <td>Noah Madden</td>\n",
       "    </tr>\n",
       "    <tr>\n",
       "      <th>96535</th>\n",
       "      <td>34222</td>\n",
       "      <td>2018-03-03 01:16:52.284</td>\n",
       "      <td>The Academy</td>\n",
       "    </tr>\n",
       "    <tr>\n",
       "      <th>95949</th>\n",
       "      <td>33636</td>\n",
       "      <td>2018-03-03 04:00:24.116</td>\n",
       "      <td>Kris Gage</td>\n",
       "    </tr>\n",
       "  </tbody>\n",
       "</table>\n",
       "</div>"
      ],
      "text/plain": [
       "       index                    date                 authors\n",
       "95867  33554 2018-03-02 21:24:11.820            Niklas Goeke\n",
       "95868  33555 2018-03-02 21:40:53.066  Christopher D. Connors\n",
       "96921  34608 2018-03-02 23:56:22.397             Noah Madden\n",
       "96535  34222 2018-03-03 01:16:52.284             The Academy\n",
       "95949  33636 2018-03-03 04:00:24.116               Kris Gage"
      ]
     },
     "execution_count": 199,
     "metadata": {},
     "output_type": "execute_result"
    }
   ],
   "source": [
    "X_time_author_sorted = X_time_author.sort_values(by='date')\n",
    "# X_time_author_sorted.tail()"
   ]
  },
  {
   "cell_type": "code",
   "execution_count": 200,
   "metadata": {},
   "outputs": [
    {
     "data": {
      "text/html": [
       "<div>\n",
       "<style scoped>\n",
       "    .dataframe tbody tr th:only-of-type {\n",
       "        vertical-align: middle;\n",
       "    }\n",
       "\n",
       "    .dataframe tbody tr th {\n",
       "        vertical-align: top;\n",
       "    }\n",
       "\n",
       "    .dataframe thead th {\n",
       "        text-align: right;\n",
       "    }\n",
       "</style>\n",
       "<table border=\"1\" class=\"dataframe\">\n",
       "  <thead>\n",
       "    <tr style=\"text-align: right;\">\n",
       "      <th></th>\n",
       "      <th>index</th>\n",
       "      <th>date</th>\n",
       "      <th>authors</th>\n",
       "      <th>cum_count</th>\n",
       "    </tr>\n",
       "  </thead>\n",
       "  <tbody>\n",
       "    <tr>\n",
       "      <th>95867</th>\n",
       "      <td>33554</td>\n",
       "      <td>2018-03-02 21:24:11.820</td>\n",
       "      <td>Niklas Goeke</td>\n",
       "      <td>40</td>\n",
       "    </tr>\n",
       "    <tr>\n",
       "      <th>95868</th>\n",
       "      <td>33555</td>\n",
       "      <td>2018-03-02 21:40:53.066</td>\n",
       "      <td>Christopher D. Connors</td>\n",
       "      <td>85</td>\n",
       "    </tr>\n",
       "    <tr>\n",
       "      <th>96921</th>\n",
       "      <td>34608</td>\n",
       "      <td>2018-03-02 23:56:22.397</td>\n",
       "      <td>Noah Madden</td>\n",
       "      <td>1</td>\n",
       "    </tr>\n",
       "    <tr>\n",
       "      <th>96535</th>\n",
       "      <td>34222</td>\n",
       "      <td>2018-03-03 01:16:52.284</td>\n",
       "      <td>The Academy</td>\n",
       "      <td>22</td>\n",
       "    </tr>\n",
       "    <tr>\n",
       "      <th>95949</th>\n",
       "      <td>33636</td>\n",
       "      <td>2018-03-03 04:00:24.116</td>\n",
       "      <td>Kris Gage</td>\n",
       "      <td>54</td>\n",
       "    </tr>\n",
       "  </tbody>\n",
       "</table>\n",
       "</div>"
      ],
      "text/plain": [
       "       index                    date                 authors  cum_count\n",
       "95867  33554 2018-03-02 21:24:11.820            Niklas Goeke         40\n",
       "95868  33555 2018-03-02 21:40:53.066  Christopher D. Connors         85\n",
       "96921  34608 2018-03-02 23:56:22.397             Noah Madden          1\n",
       "96535  34222 2018-03-03 01:16:52.284             The Academy         22\n",
       "95949  33636 2018-03-03 04:00:24.116               Kris Gage         54"
      ]
     },
     "execution_count": 200,
     "metadata": {},
     "output_type": "execute_result"
    }
   ],
   "source": [
    "X_time_author_sorted['cum_count'] = X_time_author_sorted.groupby('authors').cumcount() + 1\n",
    "# X_time_author_sorted.tail()"
   ]
  },
  {
   "cell_type": "code",
   "execution_count": 201,
   "metadata": {},
   "outputs": [],
   "source": [
    "X_time_author['author_cum_count'] = X_time_author_sorted.loc[X_time_author.index,['cum_count']]"
   ]
  },
  {
   "cell_type": "code",
   "execution_count": 202,
   "metadata": {},
   "outputs": [
    {
     "data": {
      "text/html": [
       "<div>\n",
       "<style scoped>\n",
       "    .dataframe tbody tr th:only-of-type {\n",
       "        vertical-align: middle;\n",
       "    }\n",
       "\n",
       "    .dataframe tbody tr th {\n",
       "        vertical-align: top;\n",
       "    }\n",
       "\n",
       "    .dataframe thead th {\n",
       "        text-align: right;\n",
       "    }\n",
       "</style>\n",
       "<table border=\"1\" class=\"dataframe\">\n",
       "  <thead>\n",
       "    <tr style=\"text-align: right;\">\n",
       "      <th></th>\n",
       "      <th>index</th>\n",
       "      <th>date</th>\n",
       "      <th>authors</th>\n",
       "      <th>author_cum_count</th>\n",
       "    </tr>\n",
       "  </thead>\n",
       "  <tbody>\n",
       "    <tr>\n",
       "      <th>96953</th>\n",
       "      <td>34640</td>\n",
       "      <td>2017-08-21 22:07:44.254</td>\n",
       "      <td>Lily Herman</td>\n",
       "      <td>8</td>\n",
       "    </tr>\n",
       "    <tr>\n",
       "      <th>96954</th>\n",
       "      <td>34641</td>\n",
       "      <td>2018-02-07 00:06:13.758</td>\n",
       "      <td>Ivan Gabriele</td>\n",
       "      <td>1</td>\n",
       "    </tr>\n",
       "    <tr>\n",
       "      <th>96955</th>\n",
       "      <td>34642</td>\n",
       "      <td>2017-12-28 18:00:38.412</td>\n",
       "      <td>Nick Troiano</td>\n",
       "      <td>3</td>\n",
       "    </tr>\n",
       "    <tr>\n",
       "      <th>96956</th>\n",
       "      <td>34643</td>\n",
       "      <td>2018-02-07 18:23:17.743</td>\n",
       "      <td>Sharrieff R. De'Johnette</td>\n",
       "      <td>2</td>\n",
       "    </tr>\n",
       "    <tr>\n",
       "      <th>96957</th>\n",
       "      <td>34644</td>\n",
       "      <td>2018-02-24 19:19:44.956</td>\n",
       "      <td>Alexander Vitanov</td>\n",
       "      <td>1</td>\n",
       "    </tr>\n",
       "  </tbody>\n",
       "</table>\n",
       "</div>"
      ],
      "text/plain": [
       "       index                    date                   authors  \\\n",
       "96953  34640 2017-08-21 22:07:44.254               Lily Herman   \n",
       "96954  34641 2018-02-07 00:06:13.758             Ivan Gabriele   \n",
       "96955  34642 2017-12-28 18:00:38.412              Nick Troiano   \n",
       "96956  34643 2018-02-07 18:23:17.743  Sharrieff R. De'Johnette   \n",
       "96957  34644 2018-02-24 19:19:44.956         Alexander Vitanov   \n",
       "\n",
       "       author_cum_count  \n",
       "96953                 8  \n",
       "96954                 1  \n",
       "96955                 3  \n",
       "96956                 2  \n",
       "96957                 1  "
      ]
     },
     "execution_count": 202,
     "metadata": {},
     "output_type": "execute_result"
    }
   ],
   "source": [
    "X_time_author.tail()"
   ]
  },
  {
   "cell_type": "code",
   "execution_count": 207,
   "metadata": {},
   "outputs": [],
   "source": [
    "X_train_time_author = X_time_author.iloc[:X_train_time.shape[0],3]\n",
    "X_test_time_author = X_time_author.iloc[X_train_time.shape[0]:,3]"
   ]
  },
  {
   "cell_type": "code",
   "execution_count": null,
   "metadata": {},
   "outputs": [],
   "source": []
  },
  {
   "cell_type": "code",
   "execution_count": 9,
   "metadata": {},
   "outputs": [],
   "source": [
    "X_train_time = pd.read_csv(os.path.join(PATH_TO_DATA,'train_published.txt'),header=None,names=['date'],\n",
    "                                            parse_dates =['date'])\n",
    "X_test_time = pd.read_csv(os.path.join(PATH_TO_DATA,'test_published.txt'),header=None,names=['date'],\n",
    "                                         parse_dates =['date'])"
   ]
  },
  {
   "cell_type": "code",
   "execution_count": 10,
   "metadata": {},
   "outputs": [
    {
     "data": {
      "text/plain": [
       "((62313, 1), (34645, 1))"
      ]
     },
     "execution_count": 10,
     "metadata": {},
     "output_type": "execute_result"
    }
   ],
   "source": [
    "X_train_time.shape,X_test_time.shape"
   ]
  },
  {
   "cell_type": "code",
   "execution_count": 228,
   "metadata": {},
   "outputs": [],
   "source": [
    "def add_time_features(df):\n",
    "    new_df = pd.DataFrame(index=df.index)\n",
    "    hour = df['date'].apply(lambda ts: ts.hour)\n",
    "    new_df['morning'] = ((hour >= 7) & (hour <= 11)).astype('int')\n",
    "    new_df[\"day\"] = ((hour >= 12) & (hour <= 18)).astype('int')\n",
    "    new_df[\"evening\"] = ((hour >= 19) & (hour <= 23)).astype('int')\n",
    "    new_df[\"night\"] = ((hour >= 0) & (hour <= 6)).astype('int')\n",
    "    new_df['is_weekend'] = df['date'].dt.weekday.isin([6,7]).astype('int')\n",
    "#     new_df['year'] = df['date'].dt.year\n",
    "#     new_df['month'] = df['date'].dt.month\n",
    "#     new_df['weekday'] = df['date'].dt.weekday\n",
    "#     new_df['hour'] = df['date'].dt.hour    \n",
    "    return new_df"
   ]
  },
  {
   "cell_type": "code",
   "execution_count": 229,
   "metadata": {},
   "outputs": [
    {
     "data": {
      "text/plain": [
       "((62313, 5), (34645, 5))"
      ]
     },
     "execution_count": 229,
     "metadata": {},
     "output_type": "execute_result"
    }
   ],
   "source": [
    "X_train_time_features_sparse = add_time_features(X_train_time)\n",
    "X_test_time_features_sparse = add_time_features(X_test_time)\n",
    "X_train_time_features_sparse.shape,X_test_time_features_sparse.shape"
   ]
  },
  {
   "cell_type": "markdown",
   "metadata": {},
   "source": [
    "** length features **"
   ]
  },
  {
   "cell_type": "code",
   "execution_count": 230,
   "metadata": {},
   "outputs": [],
   "source": [
    "with open(os.path.join(PATH_TO_DATA,'train_content.txt'),encoding=\"utf8\") as train_content:\n",
    "    length =[] \n",
    "    for line in train_content:\n",
    "        length.append(len(line))\n",
    "X_train_time_features_sparse['length'] = length\n",
    "\n",
    "with open(os.path.join(PATH_TO_DATA,'test_content.txt'),encoding=\"utf8\") as test_content:\n",
    "    length =[] \n",
    "    for line in test_content:\n",
    "        length.append(len(line))\n",
    "X_test_time_features_sparse['length'] = length\n",
    "\n",
    "with open(os.path.join(PATH_TO_DATA,'train_tags.txt'),encoding=\"utf8\") as train_tags:\n",
    "    length =[] \n",
    "    for line in train_tags:\n",
    "        length.append(len(line))\n",
    "X_train_time_features_sparse['tag_length'] = length\n",
    "\n",
    "with open(os.path.join(PATH_TO_DATA,'test_tags.txt'),encoding=\"utf8\") as test_tags:\n",
    "    length =[] \n",
    "    for line in test_tags:\n",
    "        length.append(len(line))\n",
    "X_test_time_features_sparse['tag_length'] = length"
   ]
  },
  {
   "cell_type": "markdown",
   "metadata": {},
   "source": [
    "*** Author count ***"
   ]
  },
  {
   "cell_type": "code",
   "execution_count": 231,
   "metadata": {},
   "outputs": [],
   "source": [
    "X_train_time_features_sparse['author_cum_count'] = X_train_time_author.values\n",
    "X_test_time_features_sparse['author_cum_count'] = X_test_time_author.values"
   ]
  },
  {
   "cell_type": "code",
   "execution_count": 232,
   "metadata": {},
   "outputs": [],
   "source": [
    "from sklearn.preprocessing import MinMaxScaler\n",
    "minmax = MinMaxScaler()\n",
    "minmax.fit(X_train_time_features_sparse)\n",
    "X_train_time_features_sparse[X_train_time_features_sparse.columns] = minmax.transform(X_train_time_features_sparse)\n",
    "X_test_time_features_sparse[X_test_time_features_sparse.columns] = minmax.transform(X_test_time_features_sparse)"
   ]
  },
  {
   "cell_type": "code",
   "execution_count": 233,
   "metadata": {},
   "outputs": [
    {
     "data": {
      "image/png": "[encoded data removed]",
      "text/plain": [
       "<Figure size 432x288 with 2 Axes>"
      ]
     },
     "metadata": {},
     "output_type": "display_data"
    }
   ],
   "source": [
    "import seaborn as sns\n",
    "sns.heatmap(X_test_time_features_sparse.corr());"
   ]
  },
  {
   "cell_type": "code",
   "execution_count": 234,
   "metadata": {},
   "outputs": [
    {
     "data": {
      "text/html": [
       "<div>\n",
       "<style scoped>\n",
       "    .dataframe tbody tr th:only-of-type {\n",
       "        vertical-align: middle;\n",
       "    }\n",
       "\n",
       "    .dataframe tbody tr th {\n",
       "        vertical-align: top;\n",
       "    }\n",
       "\n",
       "    .dataframe thead th {\n",
       "        text-align: right;\n",
       "    }\n",
       "</style>\n",
       "<table border=\"1\" class=\"dataframe\">\n",
       "  <thead>\n",
       "    <tr style=\"text-align: right;\">\n",
       "      <th></th>\n",
       "      <th>morning</th>\n",
       "      <th>day</th>\n",
       "      <th>evening</th>\n",
       "      <th>night</th>\n",
       "      <th>is_weekend</th>\n",
       "      <th>length</th>\n",
       "      <th>tag_length</th>\n",
       "      <th>author_cum_count</th>\n",
       "    </tr>\n",
       "  </thead>\n",
       "  <tbody>\n",
       "    <tr>\n",
       "      <th>0</th>\n",
       "      <td>0.0</td>\n",
       "      <td>0.0</td>\n",
       "      <td>0.0</td>\n",
       "      <td>1.0</td>\n",
       "      <td>0.0</td>\n",
       "      <td>0.012452</td>\n",
       "      <td>0.457944</td>\n",
       "      <td>0.0</td>\n",
       "    </tr>\n",
       "    <tr>\n",
       "      <th>1</th>\n",
       "      <td>0.0</td>\n",
       "      <td>0.0</td>\n",
       "      <td>0.0</td>\n",
       "      <td>1.0</td>\n",
       "      <td>0.0</td>\n",
       "      <td>0.012102</td>\n",
       "      <td>0.000000</td>\n",
       "      <td>0.0</td>\n",
       "    </tr>\n",
       "    <tr>\n",
       "      <th>2</th>\n",
       "      <td>0.0</td>\n",
       "      <td>0.0</td>\n",
       "      <td>0.0</td>\n",
       "      <td>1.0</td>\n",
       "      <td>1.0</td>\n",
       "      <td>0.005394</td>\n",
       "      <td>0.102804</td>\n",
       "      <td>0.0</td>\n",
       "    </tr>\n",
       "    <tr>\n",
       "      <th>3</th>\n",
       "      <td>0.0</td>\n",
       "      <td>0.0</td>\n",
       "      <td>1.0</td>\n",
       "      <td>0.0</td>\n",
       "      <td>0.0</td>\n",
       "      <td>0.026190</td>\n",
       "      <td>0.420561</td>\n",
       "      <td>0.0</td>\n",
       "    </tr>\n",
       "    <tr>\n",
       "      <th>4</th>\n",
       "      <td>0.0</td>\n",
       "      <td>1.0</td>\n",
       "      <td>0.0</td>\n",
       "      <td>0.0</td>\n",
       "      <td>0.0</td>\n",
       "      <td>0.029159</td>\n",
       "      <td>0.140187</td>\n",
       "      <td>0.0</td>\n",
       "    </tr>\n",
       "  </tbody>\n",
       "</table>\n",
       "</div>"
      ],
      "text/plain": [
       "   morning  day  evening  night  is_weekend    length  tag_length  \\\n",
       "0      0.0  0.0      0.0    1.0         0.0  0.012452    0.457944   \n",
       "1      0.0  0.0      0.0    1.0         0.0  0.012102    0.000000   \n",
       "2      0.0  0.0      0.0    1.0         1.0  0.005394    0.102804   \n",
       "3      0.0  0.0      1.0    0.0         0.0  0.026190    0.420561   \n",
       "4      0.0  1.0      0.0    0.0         0.0  0.029159    0.140187   \n",
       "\n",
       "   author_cum_count  \n",
       "0               0.0  \n",
       "1               0.0  \n",
       "2               0.0  \n",
       "3               0.0  \n",
       "4               0.0  "
      ]
     },
     "execution_count": 234,
     "metadata": {},
     "output_type": "execute_result"
    }
   ],
   "source": [
    "X_train_time_features_sparse.head()"
   ]
  },
  {
   "cell_type": "markdown",
   "metadata": {},
   "source": [
    "**Read train target and split data for validation.**"
   ]
  },
  {
   "cell_type": "code",
   "execution_count": 32,
   "metadata": {},
   "outputs": [],
   "source": [
    "train_target = pd.read_csv(os.path.join(PATH_TO_DATA, 'train_log1p_recommends.csv'), \n",
    "                           index_col='id')\n",
    "y_train = train_target['log_recommends'].values"
   ]
  },
  {
   "cell_type": "code",
   "execution_count": 33,
   "metadata": {},
   "outputs": [
    {
     "data": {
      "text/plain": [
       "array([9.01201, 3.49651, 0.69315, ..., 3.55535, 1.09861, 4.43082])"
      ]
     },
     "execution_count": 33,
     "metadata": {},
     "output_type": "execute_result"
    }
   ],
   "source": [
    "y_train"
   ]
  },
  {
   "cell_type": "code",
   "execution_count": 31,
   "metadata": {},
   "outputs": [],
   "source": [
    "X_train_time_unsorted = pd.read_csv(os.path.join(PATH_TO_DATA,'train_published_unsorted.txt'),header=None,names=['date'],\n",
    "                                            parse_dates =['date'])\n",
    "# X_train_time_unsorted.head()"
   ]
  },
  {
   "cell_type": "code",
   "execution_count": 34,
   "metadata": {},
   "outputs": [
    {
     "data": {
      "text/html": [
       "<div>\n",
       "<style scoped>\n",
       "    .dataframe tbody tr th:only-of-type {\n",
       "        vertical-align: middle;\n",
       "    }\n",
       "\n",
       "    .dataframe tbody tr th {\n",
       "        vertical-align: top;\n",
       "    }\n",
       "\n",
       "    .dataframe thead th {\n",
       "        text-align: right;\n",
       "    }\n",
       "</style>\n",
       "<table border=\"1\" class=\"dataframe\">\n",
       "  <thead>\n",
       "    <tr style=\"text-align: right;\">\n",
       "      <th></th>\n",
       "      <th>date</th>\n",
       "      <th>log_recommends</th>\n",
       "    </tr>\n",
       "  </thead>\n",
       "  <tbody>\n",
       "    <tr>\n",
       "      <th>24068</th>\n",
       "      <td>1970-01-01 00:00:00.001</td>\n",
       "      <td>1.09861</td>\n",
       "    </tr>\n",
       "    <tr>\n",
       "      <th>59081</th>\n",
       "      <td>1970-01-01 00:00:00.001</td>\n",
       "      <td>2.56495</td>\n",
       "    </tr>\n",
       "    <tr>\n",
       "      <th>54757</th>\n",
       "      <td>1970-01-18 03:21:32.400</td>\n",
       "      <td>0.69315</td>\n",
       "    </tr>\n",
       "    <tr>\n",
       "      <th>32182</th>\n",
       "      <td>1987-12-08 21:45:00.000</td>\n",
       "      <td>1.09861</td>\n",
       "    </tr>\n",
       "    <tr>\n",
       "      <th>33152</th>\n",
       "      <td>2003-12-29 17:00:00.000</td>\n",
       "      <td>3.52636</td>\n",
       "    </tr>\n",
       "  </tbody>\n",
       "</table>\n",
       "</div>"
      ],
      "text/plain": [
       "                         date  log_recommends\n",
       "24068 1970-01-01 00:00:00.001         1.09861\n",
       "59081 1970-01-01 00:00:00.001         2.56495\n",
       "54757 1970-01-18 03:21:32.400         0.69315\n",
       "32182 1987-12-08 21:45:00.000         1.09861\n",
       "33152 2003-12-29 17:00:00.000         3.52636"
      ]
     },
     "execution_count": 34,
     "metadata": {},
     "output_type": "execute_result"
    }
   ],
   "source": [
    "y_train_date = X_train_time_unsorted.copy()\n",
    "y_train_date['log_recommends'] = y_train\n",
    "y_train_date.sort_values(by = 'date',inplace=True)\n",
    "y_train_date.head()"
   ]
  },
  {
   "cell_type": "code",
   "execution_count": 73,
   "metadata": {},
   "outputs": [
    {
     "data": {
      "text/plain": [
       "array([1.09861, 2.56495, 0.69315, ..., 1.38629, 1.09861, 3.09104])"
      ]
     },
     "execution_count": 73,
     "metadata": {},
     "output_type": "execute_result"
    }
   ],
   "source": [
    "y_train = y_train_date['log_recommends'].values\n",
    "y_train"
   ]
  },
  {
   "cell_type": "code",
   "execution_count": null,
   "metadata": {},
   "outputs": [],
   "source": []
  },
  {
   "cell_type": "code",
   "execution_count": 20,
   "metadata": {},
   "outputs": [],
   "source": [
    "def write_submission_file(prediction, filename,\n",
    "                          path_to_sample=os.path.join(PATH_TO_DATA, \n",
    "                                                      'sample_submission.csv')):\n",
    "    submission = pd.read_csv(path_to_sample, index_col='id')\n",
    "    \n",
    "    submission['log_recommends'] = prediction\n",
    "    submission.to_csv(filename)"
   ]
  },
  {
   "cell_type": "code",
   "execution_count": 240,
   "metadata": {},
   "outputs": [],
   "source": [
    "from scipy import sparse\n",
    "X_train_content_sparse = sparse.load_npz(\"./data/medium/X_train_content_sparse_total_bigram.npz\")\n",
    "X_test_content_sparse = sparse.load_npz(\"./data/medium/X_test_content_sparse_total_bigram.npz\")"
   ]
  },
  {
   "cell_type": "code",
   "execution_count": 247,
   "metadata": {},
   "outputs": [],
   "source": [
    "X_train_sparse = hstack([\n",
    "                          X_train_domain_sparse,\n",
    "                          X_train_content_sparse,\n",
    "#                           X_train_title_sparse,                          \n",
    "                          X_train_tags_sparse,\n",
    "                          X_train_author_sparse,\n",
    "                          X_train_time_features_sparse]).tocsr()\n",
    "\n",
    "X_test_sparse = hstack([\n",
    "                         X_test_domain_sparse,\n",
    "                         X_test_content_sparse,\n",
    "#                          X_test_title_sparse,\n",
    "                         X_test_tags_sparse,\n",
    "                         X_test_author_sparse,\n",
    "                         X_test_time_features_sparse]).tocsr()\n",
    "\n",
    "train_part_size = int(0.7 * train_target.shape[0])\n",
    "y_train_part = y_train[:train_part_size]\n",
    "y_valid = y_train[train_part_size:]\n",
    "\n",
    "X_train_part_sparse = X_train_sparse[:train_part_size, :]\n",
    "X_valid_sparse =  X_train_sparse[train_part_size:, :]\n"
   ]
  },
  {
   "cell_type": "code",
   "execution_count": 238,
   "metadata": {},
   "outputs": [
    {
     "data": {
      "text/plain": [
       "1.1455953006628172"
      ]
     },
     "execution_count": 238,
     "metadata": {},
     "output_type": "execute_result"
    }
   ],
   "source": [
    "lridge = Ridge(random_state=17)\n",
    "lridge.fit(X_train_part_sparse,y_train_part)\n",
    "mean_absolute_error(y_valid,lridge.predict(X_valid_sparse)) ## titles +authors+ content + len + domain + author count"
   ]
  },
  {
   "cell_type": "code",
   "execution_count": 79,
   "metadata": {},
   "outputs": [
    {
     "data": {
      "text/plain": [
       "1.1885180788166347"
      ]
     },
     "execution_count": 79,
     "metadata": {},
     "output_type": "execute_result"
    }
   ],
   "source": [
    "lridge = Ridge(random_state=17)\n",
    "lridge.fit(X_train_part_sparse,y_train_part)\n",
    "mean_absolute_error(y_valid,lridge.predict(X_valid_sparse)) ## titles +authors+ content"
   ]
  },
  {
   "cell_type": "code",
   "execution_count": 90,
   "metadata": {},
   "outputs": [
    {
     "data": {
      "text/plain": [
       "1.180886097235884"
      ]
     },
     "execution_count": 90,
     "metadata": {},
     "output_type": "execute_result"
    }
   ],
   "source": [
    "lridge = Ridge(random_state=17)\n",
    "lridge.fit(X_train_part_sparse,y_train_part)\n",
    "mean_absolute_error(y_valid,lridge.predict(X_valid_sparse)) ## titles+author+contents + length + month + weekday"
   ]
  },
  {
   "cell_type": "code",
   "execution_count": 93,
   "metadata": {},
   "outputs": [
    {
     "data": {
      "text/plain": [
       "1.1637991281859497"
      ]
     },
     "execution_count": 93,
     "metadata": {},
     "output_type": "execute_result"
    }
   ],
   "source": [
    "lridge = Ridge(random_state=17)\n",
    "lridge.fit(X_train_part_sparse,y_train_part)\n",
    "mean_absolute_error(y_valid,lridge.predict(X_valid_sparse)) \n",
    "## titles+author+contents + length + month + weekday -titles"
   ]
  },
  {
   "cell_type": "code",
   "execution_count": 152,
   "metadata": {},
   "outputs": [
    {
     "data": {
      "text/plain": [
       "1.1537652168096677"
      ]
     },
     "execution_count": 152,
     "metadata": {},
     "output_type": "execute_result"
    }
   ],
   "source": [
    "lridge = Ridge(random_state=17)\n",
    "lridge.fit(X_train_part_sparse,y_train_part)\n",
    "mean_absolute_error(y_valid,lridge.predict(X_valid_sparse)) \n",
    "## titles+author+contents + length -titles +domain"
   ]
  },
  {
   "cell_type": "code",
   "execution_count": null,
   "metadata": {},
   "outputs": [],
   "source": []
  },
  {
   "cell_type": "code",
   "execution_count": 99,
   "metadata": {},
   "outputs": [
    {
     "data": {
      "text/plain": [
       "1.1563604098678086"
      ]
     },
     "execution_count": 99,
     "metadata": {},
     "output_type": "execute_result"
    }
   ],
   "source": [
    "lridge = Ridge(random_state=17)\n",
    "lridge.fit(X_train_part_sparse,y_train_part)\n",
    "mean_absolute_error(y_valid,lridge.predict(X_valid_sparse)) \n",
    "## titles+author+contents + length + month + weekday -titles + domain"
   ]
  },
  {
   "cell_type": "code",
   "execution_count": 106,
   "metadata": {},
   "outputs": [
    {
     "data": {
      "text/plain": [
       "1.1805347780243187"
      ]
     },
     "execution_count": 106,
     "metadata": {},
     "output_type": "execute_result"
    }
   ],
   "source": [
    "lridge = Ridge(random_state=17)\n",
    "lridge.fit(X_train_part_sparse,y_train_part)\n",
    "mean_absolute_error(y_valid,lridge.predict(X_valid_sparse)) \n",
    "## titles+author (500)+contents + length + month + weekday -titles + domain"
   ]
  },
  {
   "cell_type": "code",
   "execution_count": 243,
   "metadata": {},
   "outputs": [
    {
     "data": {
      "text/plain": [
       "1.1362971720944763"
      ]
     },
     "execution_count": 243,
     "metadata": {},
     "output_type": "execute_result"
    }
   ],
   "source": [
    "lridge = Ridge(random_state=17)\n",
    "lridge.fit(X_train_part_sparse,y_train_part)\n",
    "mean_absolute_error(y_valid,lridge.predict(X_valid_sparse)) \n",
    "## titles+author+contents + length  -titles + domain +tags"
   ]
  },
  {
   "cell_type": "code",
   "execution_count": null,
   "metadata": {},
   "outputs": [],
   "source": []
  },
  {
   "cell_type": "code",
   "execution_count": 160,
   "metadata": {},
   "outputs": [
    {
     "data": {
      "text/plain": [
       "1.1459182989130716"
      ]
     },
     "execution_count": 160,
     "metadata": {},
     "output_type": "execute_result"
    }
   ],
   "source": [
    "lridge = Ridge(random_state=17)\n",
    "lridge.fit(X_train_part_sparse,y_train_part)\n",
    "mean_absolute_error(y_valid,lridge.predict(X_valid_sparse)) \n",
    "## titles+author+contents + length +alltime -titles + domain"
   ]
  },
  {
   "cell_type": "code",
   "execution_count": 164,
   "metadata": {},
   "outputs": [
    {
     "data": {
      "text/plain": [
       "1.1273207693588723"
      ]
     },
     "execution_count": 164,
     "metadata": {},
     "output_type": "execute_result"
    }
   ],
   "source": [
    "lridge = Ridge(random_state=17)\n",
    "lridge.fit(X_train_part_sparse,y_train_part)\n",
    "mean_absolute_error(y_valid,lridge.predict(X_valid_sparse)) \n",
    "## titles+author+contents + length +alltime -titles + domain +tags"
   ]
  },
  {
   "cell_type": "code",
   "execution_count": 175,
   "metadata": {},
   "outputs": [
    {
     "data": {
      "text/plain": [
       "1.1405338718468658"
      ]
     },
     "execution_count": 175,
     "metadata": {},
     "output_type": "execute_result"
    }
   ],
   "source": [
    "lridge = Ridge(random_state=17)\n",
    "lridge.fit(X_train_part_sparse,y_train_part)\n",
    "mean_absolute_error(y_valid,lridge.predict(X_valid_sparse)) \n",
    "## titles+author+contents + length +alltime(removed hour and year) -titles + domain +tags"
   ]
  },
  {
   "cell_type": "code",
   "execution_count": 186,
   "metadata": {},
   "outputs": [
    {
     "data": {
      "text/plain": [
       "1.2198752038861405"
      ]
     },
     "execution_count": 186,
     "metadata": {},
     "output_type": "execute_result"
    }
   ],
   "source": [
    "lridge = Ridge(random_state=17,alpha=15)\n",
    "lridge.fit(X_train_part_sparse,y_train_part)\n",
    "mean_absolute_error(y_valid,lridge.predict(X_valid_sparse)) \n",
    "## titles+author+contents + length +alltime(removed hour and year) -titles + domain +tags"
   ]
  },
  {
   "cell_type": "code",
   "execution_count": 225,
   "metadata": {},
   "outputs": [
    {
     "data": {
      "text/plain": [
       "1.2149888814331062"
      ]
     },
     "execution_count": 225,
     "metadata": {},
     "output_type": "execute_result"
    }
   ],
   "source": [
    "lridge = Ridge(random_state=17,alpha=15)\n",
    "lridge.fit(X_train_part_sparse,y_train_part)\n",
    "mean_absolute_error(y_valid,lridge.predict(X_valid_sparse)) \n",
    "## titles+author+contents + length +alltime(removed hour and year) -titles + domain +tags +author count"
   ]
  },
  {
   "cell_type": "code",
   "execution_count": 222,
   "metadata": {},
   "outputs": [
    {
     "data": {
      "text/plain": [
       "1.2404655709504302"
      ]
     },
     "execution_count": 222,
     "metadata": {},
     "output_type": "execute_result"
    }
   ],
   "source": [
    "lridge = Ridge(random_state=17,alpha=20)\n",
    "lridge.fit(X_train_part_sparse,y_train_part)\n",
    "mean_absolute_error(y_valid,lridge.predict(X_valid_sparse)) \n",
    "## titles+all author+contents + length +alltime(removed hour and year) -titles + domain +tags +author count"
   ]
  },
  {
   "cell_type": "code",
   "execution_count": 249,
   "metadata": {},
   "outputs": [
    {
     "data": {
      "text/plain": [
       "1.216270805814987"
      ]
     },
     "execution_count": 249,
     "metadata": {},
     "output_type": "execute_result"
    }
   ],
   "source": [
    "lridge = Ridge(random_state=17,alpha=15)\n",
    "lridge.fit(X_train_part_sparse,y_train_part)\n",
    "mean_absolute_error(y_valid,lridge.predict(X_valid_sparse)) \n",
    "## titles+author+contents + length +alltime(removed hour and year) -titles + domain +tags +author count"
   ]
  },
  {
   "cell_type": "code",
   "execution_count": null,
   "metadata": {},
   "outputs": [],
   "source": []
  },
  {
   "cell_type": "code",
   "execution_count": null,
   "metadata": {},
   "outputs": [],
   "source": []
  },
  {
   "cell_type": "code",
   "execution_count": null,
   "metadata": {},
   "outputs": [],
   "source": []
  },
  {
   "cell_type": "markdown",
   "metadata": {},
   "source": [
    "### Submission file"
   ]
  },
  {
   "cell_type": "code",
   "execution_count": 165,
   "metadata": {},
   "outputs": [
    {
     "data": {
      "text/plain": [
       "array([1.09861, 2.56495, 0.69315, ..., 1.38629, 1.09861, 3.09104])"
      ]
     },
     "execution_count": 165,
     "metadata": {},
     "output_type": "execute_result"
    }
   ],
   "source": [
    "y_train"
   ]
  },
  {
   "cell_type": "code",
   "execution_count": 101,
   "metadata": {},
   "outputs": [
    {
     "data": {
      "text/plain": [
       "(4.333279999999999, 2.897967500402306)"
      ]
     },
     "execution_count": 101,
     "metadata": {},
     "output_type": "execute_result"
    }
   ],
   "source": [
    "lridge.fit(X_train_sparse,y_train)\n",
    "prediction = lridge.predict(X_test_sparse)\n",
    "\n",
    "pred_adjusted = prediction+ (4.33328 -prediction.mean())\n",
    "pred_adjusted.mean(),prediction.mean()"
   ]
  },
  {
   "cell_type": "code",
   "execution_count": 166,
   "metadata": {},
   "outputs": [
    {
     "data": {
      "text/plain": [
       "(4.33328, 2.4465076845087337)"
      ]
     },
     "execution_count": 166,
     "metadata": {},
     "output_type": "execute_result"
    }
   ],
   "source": [
    "lridge.fit(X_train_sparse,y_train)\n",
    "prediction = lridge.predict(X_test_sparse)\n",
    "\n",
    "pred_adjusted = prediction+ (4.33328 -prediction.mean())\n",
    "pred_adjusted.mean(),prediction.mean()"
   ]
  },
  {
   "cell_type": "code",
   "execution_count": 250,
   "metadata": {},
   "outputs": [
    {
     "data": {
      "text/plain": [
       "(4.333280000000001, 2.32828612005456)"
      ]
     },
     "execution_count": 250,
     "metadata": {},
     "output_type": "execute_result"
    }
   ],
   "source": [
    "lridge.fit(X_train_sparse,y_train)\n",
    "prediction = lridge.predict(X_test_sparse)\n",
    "\n",
    "pred_adjusted = prediction+ (4.33328 -prediction.mean())\n",
    "pred_adjusted.mean(),prediction.mean()"
   ]
  },
  {
   "cell_type": "code",
   "execution_count": 102,
   "metadata": {},
   "outputs": [],
   "source": [
    "write_submission_file(pred_adjusted, './assignment6_submissions/assignment6_medium_submission_adjusted_13.csv')\n",
    "#CV 1.1563604098678086 #LB 1.66276"
   ]
  },
  {
   "cell_type": "code",
   "execution_count": 167,
   "metadata": {},
   "outputs": [],
   "source": [
    "write_submission_file(pred_adjusted, './assignment6_submissions/assignment6_medium_submission_adjusted_14.csv')\n",
    "#CV 1.1273207693588723 #LB 1.67924"
   ]
  },
  {
   "cell_type": "code",
   "execution_count": 227,
   "metadata": {},
   "outputs": [],
   "source": [
    "write_submission_file(pred_adjusted, './assignment6_submissions/medium_submission_1.csv')\n",
    "#CV 1.2404655709504302 #LB 1.68386"
   ]
  },
  {
   "cell_type": "code",
   "execution_count": 245,
   "metadata": {},
   "outputs": [],
   "source": [
    "write_submission_file(pred_adjusted, './assignment6_submissions/medium_submission_2.csv')\n",
    "#CV 1.1362971720944763 #LB 1.668262"
   ]
  },
  {
   "cell_type": "code",
   "execution_count": 251,
   "metadata": {},
   "outputs": [],
   "source": [
    "write_submission_file(pred_adjusted, './assignment6_submissions/medium_submission_5.csv')\n",
    "#CV 1.1362971720944763 #LB 1.668262"
   ]
  },
  {
   "cell_type": "code",
   "execution_count": null,
   "metadata": {},
   "outputs": [],
   "source": []
  },
  {
   "cell_type": "code",
   "execution_count": null,
   "metadata": {},
   "outputs": [],
   "source": []
  },
  {
   "cell_type": "code",
   "execution_count": null,
   "metadata": {},
   "outputs": [],
   "source": []
  },
  {
   "cell_type": "code",
   "execution_count": null,
   "metadata": {},
   "outputs": [],
   "source": []
  },
  {
   "cell_type": "markdown",
   "metadata": {},
   "source": [
    "That's it for the assignment. Much more credits will be given to the winners in this competition, check [course roadmap](https://mlcourse.ai/roadmap). Do not spoil the assignment and the competition - don't share high-performing kernels (with MAE < 1.5).\n",
    "\n",
    "Some ideas for improvement:\n",
    "\n",
    "- Engineer good features, this is the key to success. Some simple features will be based on publication time, authors, content length and so on\n",
    "- You may not ignore HTML and extract some features from there\n",
    "- You'd better experiment with your validation scheme. You should see a correlation between your local improvements and LB score\n",
    "- Try TF-IDF, ngrams, Word2Vec and GloVe embeddings\n",
    "- Try various NLP techniques like stemming and lemmatization\n",
    "- Tune hyperparameters. In our example, we've left only 50k features and used C=1 as a regularization parameter, this can be changed\n",
    "- SGD and Vowpal Wabbit will learn much faster\n",
    "- Play around with blending and/or stacking. An intro is given in [this Kernel](https://www.kaggle.com/kashnitsky/ridge-and-lightgbm-simple-blending) by @yorko \n",
    "- In our course, we don't cover neural nets. But it's not obliged to use GRUs/LSTMs/whatever in this competition.\n",
    "\n",
    "Good luck!\n",
    "\n",
    "<img src='../../img/kaggle_shakeup.png' width=50%>"
   ]
  }
 ],
 "metadata": {
  "kernelspec": {
   "display_name": "Python 3",
   "language": "python",
   "name": "python3"
  },
  "language_info": {
   "codemirror_mode": {
    "name": "ipython",
    "version": 3
   },
   "file_extension": ".py",
   "mimetype": "text/x-python",
   "name": "python",
   "nbconvert_exporter": "python",
   "pygments_lexer": "ipython3",
   "version": "3.6.5"
  }
 },
 "nbformat": 4,
 "nbformat_minor": 2
}
