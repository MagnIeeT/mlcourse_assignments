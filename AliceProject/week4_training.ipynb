{
 "cells": [
  {
   "cell_type": "markdown",
   "metadata": {},
   "source": [
    "<center>\n",
    "<img src=\"../../img/ods_stickers.jpg\" />\n",
    "    \n",
    "## [mlcourse.ai](https://mlcourse.ai) – Open Machine Learning Course \n",
    "Author: [Yury Kashnitskiy](https://yorko.github.io) (@yorko). This material is subject to the terms and conditions of the [Creative Commons CC BY-NC-SA 4.0](https://creativecommons.org/licenses/by-nc-sa/4.0/) license. Free use is permitted for any non-commercial purpose. This material is a translated version of the Capstone project (by the same author) from specialization \"Machine learning and data analysis\" by Yandex and MIPT. No solutions shared."
   ]
  },
  {
   "cell_type": "markdown",
   "metadata": {},
   "source": [
    "# <center>Week 4.  Classification algorithms comparison\n",
    "\n",
    "Finally, we are going to train classification models, compare several algorithms via cross-validation, and figure out which session's parameters (*session_length* и *window_size*) it is better to use. Also, for the chosen algorithm, we will plot learning curves (which show the dependecy of model performance on the amount of training data) and validation curves (which show the dependency of model performance on one of it's hyperparameters).\n",
    "\n",
    "**Week 4 roadmap:**\n",
    "- Part 1. Different algorithms comparison on sessions of 10 websites\n",
    "- Part 2. Hyperparameter tuning – session_length and window_size\n",
    "- Part 3. Particular user identification and learning curves\n",
    "\n",
    "**You might find following links useful:**\n",
    "   - [Hyperparameter Optimization in Machine Learning Models](https://www.datacamp.com/community/tutorials/parameter-optimization-machine-learning-models)\n",
    "   - [Optimizing your model with cross-validation](http://blog.kaggle.com/2015/06/29/scikit-learn-video-7-optimizing-your-model-with-cross-validation/)"
   ]
  },
  {
   "cell_type": "markdown",
   "metadata": {},
   "source": [
    "**Your task**\n",
    "1. Fill in code in provided notebook\n",
    "2. Choose the answers in the [form](https://docs.google.com/forms/d/10kYgawyf9kId7VDOnBhQ6PH64rU2HR0CmTy5CDwy2Vo)"
   ]
  },
  {
   "cell_type": "code",
   "execution_count": 1,
   "metadata": {},
   "outputs": [],
   "source": [
    "# pip install watermark\n",
    "%load_ext watermark"
   ]
  },
  {
   "cell_type": "code",
   "execution_count": 2,
   "metadata": {},
   "outputs": [
    {
     "name": "stdout",
     "output_type": "stream",
     "text": [
      "CPython 3.6.5\n",
      "IPython 6.4.0\n",
      "\n",
      "numpy 1.14.3\n",
      "scipy 1.1.0\n",
      "pandas 0.23.0\n",
      "matplotlib 2.2.2\n",
      "statsmodels 0.9.0\n",
      "sklearn 0.19.1\n",
      "\n",
      "compiler   : MSC v.1900 64 bit (AMD64)\n",
      "system     : Windows\n",
      "release    : 10\n",
      "machine    : AMD64\n",
      "processor  : Intel64 Family 6 Model 61 Stepping 4, GenuineIntel\n",
      "CPU cores  : 4\n",
      "interpreter: 64bit\n",
      "Git hash   :\n"
     ]
    }
   ],
   "source": [
    "%watermark -v -m -p numpy,scipy,pandas,matplotlib,statsmodels,sklearn -g"
   ]
  },
  {
   "cell_type": "code",
   "execution_count": 3,
   "metadata": {},
   "outputs": [],
   "source": [
    "from __future__ import division, print_function\n",
    "# disable Anaconda warnings\n",
    "import warnings\n",
    "warnings.filterwarnings('ignore')\n",
    "from time import time\n",
    "import itertools\n",
    "import os\n",
    "import numpy as np\n",
    "import pandas as pd\n",
    "import seaborn as sns\n",
    "sns.set()\n",
    "from matplotlib import pyplot as plt\n",
    "import pickle\n",
    "from scipy.sparse import csr_matrix\n",
    "from sklearn.model_selection import train_test_split, cross_val_score, StratifiedKFold, GridSearchCV\n",
    "from sklearn.metrics import accuracy_score, f1_score"
   ]
  },
  {
   "cell_type": "code",
   "execution_count": 4,
   "metadata": {},
   "outputs": [],
   "source": [
    "# Change the path to data\n",
    "PATH_TO_DATA = './capstone_user_identification/'"
   ]
  },
  {
   "cell_type": "markdown",
   "metadata": {},
   "source": [
    "## Part 1. Different algorithms comparison on sessions of 10 websites"
   ]
  },
  {
   "cell_type": "markdown",
   "metadata": {},
   "source": [
    "**Load *X_sparse_10users* and *y_10users* objects serialized earlier, which correspond to 10 users data.**"
   ]
  },
  {
   "cell_type": "code",
   "execution_count": 5,
   "metadata": {},
   "outputs": [],
   "source": [
    "#You might wanna check the `encoding` param if you face any error while opening the .pkl files..\n",
    "with open(os.path.join(PATH_TO_DATA, \"picklefiles\",\n",
    "         'X_sparse_10users.pkl'), 'rb') as X_sparse_10users_pkl:\n",
    "    X_sparse_10users = pickle.load(X_sparse_10users_pkl)\n",
    "with open(os.path.join(PATH_TO_DATA, \"picklefiles\",\n",
    "                       'y_10users.pkl'), 'rb') as y_10users_pkl:\n",
    "    y_10users = pickle.load(y_10users_pkl)"
   ]
  },
  {
   "cell_type": "markdown",
   "metadata": {},
   "source": [
    "**There are more than 14 thousand sessions and almost 5 thousand unique websites.**"
   ]
  },
  {
   "cell_type": "code",
   "execution_count": 6,
   "metadata": {},
   "outputs": [
    {
     "data": {
      "text/plain": [
       "(14061, 4913)"
      ]
     },
     "execution_count": 6,
     "metadata": {},
     "output_type": "execute_result"
    }
   ],
   "source": [
    "X_sparse_10users.shape"
   ]
  },
  {
   "cell_type": "code",
   "execution_count": 7,
   "metadata": {},
   "outputs": [
    {
     "data": {
      "text/plain": [
       "(14061, 4913)"
      ]
     },
     "execution_count": 7,
     "metadata": {},
     "output_type": "execute_result"
    }
   ],
   "source": [
    "X_sparse_10users.shape"
   ]
  },
  {
   "cell_type": "markdown",
   "metadata": {},
   "source": [
    "**Split the data into two parts. We are going to use the first part for cross-validation, second part will be used to evaluate performance of the model that we will end up with after cross-validation.**"
   ]
  },
  {
   "cell_type": "code",
   "execution_count": 8,
   "metadata": {},
   "outputs": [],
   "source": [
    "X_train, X_valid, y_train, y_valid = train_test_split(X_sparse_10users, y_10users, \n",
    "                                                      test_size=0.3, \n",
    "                                                      random_state=17, stratify=y_10users)"
   ]
  },
  {
   "cell_type": "markdown",
   "metadata": {},
   "source": [
    "**Define cross-validation: 3-fold, with shuffle, random_state=17 – for reproducibility.**"
   ]
  },
  {
   "cell_type": "code",
   "execution_count": 9,
   "metadata": {},
   "outputs": [],
   "source": [
    "skf = StratifiedKFold(n_splits=3, shuffle=True, random_state=17)"
   ]
  },
  {
   "cell_type": "markdown",
   "metadata": {},
   "source": [
    "**Utility function to plot validation curves after running `GridSearchCV` (or `RandomizedCV`).**"
   ]
  },
  {
   "cell_type": "code",
   "execution_count": 10,
   "metadata": {},
   "outputs": [],
   "source": [
    "def plot_validation_curves(param_values, grid_cv_results_):\n",
    "    \n",
    "    train_mu, train_std = grid_cv_results_['mean_train_score'], grid_cv_results_['std_train_score']\n",
    "    valid_mu, valid_std = grid_cv_results_['mean_test_score'], grid_cv_results_['std_test_score']\n",
    "    \n",
    "    train_line = plt.plot(param_values, train_mu, '-', label='train', color='green')\n",
    "    valid_line = plt.plot(param_values, valid_mu, '-', label='test', color='red')\n",
    "    \n",
    "    plt.fill_between(param_values, train_mu - train_std, train_mu + train_std, edgecolor='none',\n",
    "                     facecolor=train_line[0].get_color(), alpha=0.2)\n",
    "    plt.fill_between(param_values, valid_mu - valid_std, valid_mu + valid_std, edgecolor='none',\n",
    "                     facecolor=valid_line[0].get_color(), alpha=0.2)\n",
    "    plt.legend()"
   ]
  },
  {
   "cell_type": "markdown",
   "metadata": {},
   "source": [
    "**1. Train `KNeighborsClassifier` with 100 nearest neighbours (leave other parameters default values, only set `n_jobs = -1` for parallelization) and compare model's mean accuracy during 3-fold cross-validation (for reproducibility use `skf` object) on `(X_train, y_train)` and model's accuracy on `(X_valid, y_valid)`.**"
   ]
  },
  {
   "cell_type": "code",
   "execution_count": 11,
   "metadata": {},
   "outputs": [],
   "source": [
    "from sklearn.neighbors import KNeighborsClassifier"
   ]
  },
  {
   "cell_type": "code",
   "execution_count": 12,
   "metadata": {},
   "outputs": [
    {
     "data": {
      "text/plain": [
       "0.584024650391088"
      ]
     },
     "execution_count": 12,
     "metadata": {},
     "output_type": "execute_result"
    }
   ],
   "source": [
    "knn = KNeighborsClassifier(n_neighbors=100,n_jobs=-1)\n",
    "knn.fit(X_train,y_train)\n",
    "accuracy_score(y_valid,knn.predict(X_valid))"
   ]
  },
  {
   "cell_type": "code",
   "execution_count": 14,
   "metadata": {},
   "outputs": [
    {
     "data": {
      "text/plain": [
       "0.5647188870063362"
      ]
     },
     "execution_count": 14,
     "metadata": {},
     "output_type": "execute_result"
    }
   ],
   "source": [
    "knn = KNeighborsClassifier(n_neighbors=100,n_jobs=-1)\n",
    "cross_val_score(knn,X_train,y_train,cv=skf).mean()"
   ]
  },
  {
   "cell_type": "code",
   "execution_count": 15,
   "metadata": {},
   "outputs": [],
   "source": []
  },
  {
   "cell_type": "markdown",
   "metadata": {},
   "source": [
    "**<font color='red'>Question 1. </font> Evaluate KNeighborsClassifier's mean accuracy during cross-validation and model's accuracy on the validation dataset. Round your answers up to the third digit after a decimal point. Write your answers with a space between them.**"
   ]
  },
  {
   "cell_type": "code",
   "execution_count": 16,
   "metadata": {},
   "outputs": [],
   "source": [
    "#0.565,0.584"
   ]
  },
  {
   "cell_type": "markdown",
   "metadata": {},
   "source": [
    "**2. Train a random forest (`RandomForestClassifier`) consisting of 100 trees (for reproducibility use `random_state`=17). Compare model's OOB-score on and its accuracy on `(X_valid, y_valid)`. Use `n_jobs = -1` for parallelization.**"
   ]
  },
  {
   "cell_type": "code",
   "execution_count": 17,
   "metadata": {},
   "outputs": [],
   "source": [
    "from sklearn.ensemble import RandomForestClassifier"
   ]
  },
  {
   "cell_type": "code",
   "execution_count": 18,
   "metadata": {},
   "outputs": [
    {
     "data": {
      "text/plain": [
       "0.7312159279450107"
      ]
     },
     "execution_count": 18,
     "metadata": {},
     "output_type": "execute_result"
    }
   ],
   "source": [
    "forest = RandomForestClassifier(n_estimators=100, random_state=17,oob_score=True, n_jobs=-1)\n",
    "forest.fit(X_train,y_train)\n",
    "accuracy_score(y_valid,forest.predict(X_valid))"
   ]
  },
  {
   "cell_type": "markdown",
   "metadata": {},
   "source": [
    "**<font color='red'>Question 2. </font> Evaluate `RandomForestClassifier` Out-of-Bag aka OOB score and its accuracy on the validation dataset. Round your answers up to the third digit after a decimal point. Write your answers with a space between them.**"
   ]
  },
  {
   "cell_type": "code",
   "execution_count": 19,
   "metadata": {},
   "outputs": [
    {
     "data": {
      "text/plain": [
       "0.7172322698638488"
      ]
     },
     "execution_count": 19,
     "metadata": {},
     "output_type": "execute_result"
    }
   ],
   "source": [
    "forest.oob_score_"
   ]
  },
  {
   "cell_type": "markdown",
   "metadata": {},
   "source": [
    "**3. Train logistic regression with default C value and `random_state`=17. Compare model's mean accuracy during 3-fold cross-validation (don't forget to use `skf` object) on `(X_train, y_train)` and model's accuracy on `(X_valid, y_valid)`. Use `n_jobs = -1` for parallelization.**"
   ]
  },
  {
   "cell_type": "code",
   "execution_count": 12,
   "metadata": {},
   "outputs": [],
   "source": [
    "from sklearn.linear_model import LogisticRegression, LogisticRegressionCV"
   ]
  },
  {
   "cell_type": "code",
   "execution_count": 13,
   "metadata": {},
   "outputs": [
    {
     "data": {
      "text/plain": [
       "0.7610267543665875"
      ]
     },
     "execution_count": 13,
     "metadata": {},
     "output_type": "execute_result"
    }
   ],
   "source": [
    "logit = LogisticRegression(random_state=17, n_jobs=-1)\n",
    "cross_val_score(logit,X_train,y_train, cv=skf).mean()"
   ]
  },
  {
   "cell_type": "code",
   "execution_count": 14,
   "metadata": {},
   "outputs": [
    {
     "data": {
      "text/plain": [
       "0.7817018250770325"
      ]
     },
     "execution_count": 14,
     "metadata": {},
     "output_type": "execute_result"
    }
   ],
   "source": [
    "logit.fit(X_train,y_train)\n",
    "accuracy_score(y_valid,logit.predict(X_valid))"
   ]
  },
  {
   "cell_type": "markdown",
   "metadata": {},
   "source": [
    "**Read the documentation for [LogisticRegressionCV](http://scikit-learn.org/stable/modules/generated/sklearn.linear_model.LogisticRegressionCV.html). Logistic regression is well studied and there are algorithms for fast parameter `C` search (faster than using `GridSearchCV`).**\n",
    "\n",
    "**Using `LogisticRegressionCV` find optimal C value. Fisrt try wider range: 10 values from 1e-4 up to 1e2 using `logspace` from `NumPy`. Specify `multi_class`='multinomial' and `random_state`=17 for `LogisticRegressionCV`. For cross-validation use `skf` object created earlier. Use `n_jobs`=-1 for parallelization.**\n",
    "\n",
    "**Plot validation curves for parameter `C`.**"
   ]
  },
  {
   "cell_type": "code",
   "execution_count": 15,
   "metadata": {},
   "outputs": [
    {
     "name": "stdout",
     "output_type": "stream",
     "text": [
      "Wall time: 29.2 s\n"
     ]
    }
   ],
   "source": [
    "%%time\n",
    "logit_c_values1 = np.logspace(-4, 2, 10)\n",
    "\n",
    "logit_grid_searcher1 = LogisticRegressionCV(logit_c_values1,random_state=17, multi_class='multinomial',cv=skf) \n",
    "logit_grid_searcher1.fit(X_train, y_train)"
   ]
  },
  {
   "cell_type": "markdown",
   "metadata": {},
   "source": [
    "**Mean accuracy during cross-validation for each of 10 `C` values.**"
   ]
  },
  {
   "cell_type": "code",
   "execution_count": 18,
   "metadata": {},
   "outputs": [
    {
     "data": {
      "text/plain": [
       "array([[0.32511416, 0.47305936, 0.54885845, 0.64414003, 0.70197869,\n",
       "        0.74398782, 0.75190259, 0.74672755, 0.73972603, 0.73028919],\n",
       "       [0.32662397, 0.47819457, 0.56084172, 0.66056725, 0.72766087,\n",
       "        0.76395242, 0.76974687, 0.76700213, 0.76059774, 0.74778896],\n",
       "       [0.30292862, 0.46888347, 0.54850519, 0.64887126, 0.70927395,\n",
       "        0.7461867 , 0.75533862, 0.75686394, 0.7495424 , 0.74039048]])"
      ]
     },
     "execution_count": 18,
     "metadata": {},
     "output_type": "execute_result"
    }
   ],
   "source": [
    "logit_grid_searcher1.scores_[1]"
   ]
  },
  {
   "cell_type": "code",
   "execution_count": 21,
   "metadata": {},
   "outputs": [],
   "source": [
    "logit_mean_cv_scores1 = logit_grid_searcher1.scores_[1].mean(axis=0)"
   ]
  },
  {
   "cell_type": "code",
   "execution_count": 22,
   "metadata": {},
   "outputs": [
    {
     "data": {
      "text/plain": [
       "array([0.31822225, 0.47337913, 0.55273512, 0.65119285, 0.71297117,\n",
       "       0.75137565, 0.75899603, 0.75686454, 0.74995539, 0.73948955])"
      ]
     },
     "execution_count": 22,
     "metadata": {},
     "output_type": "execute_result"
    }
   ],
   "source": [
    "logit_mean_cv_scores1"
   ]
  },
  {
   "cell_type": "code",
   "execution_count": 24,
   "metadata": {},
   "outputs": [
    {
     "data": {
      "text/plain": [
       "array([0.31822225, 0.47337913, 0.55273512, 0.65119285, 0.71297117,\n",
       "       0.75137565, 0.75899603, 0.75686454, 0.74995539, 0.73948955])"
      ]
     },
     "execution_count": 24,
     "metadata": {},
     "output_type": "execute_result"
    }
   ],
   "source": [
    "logit_mean_cv_scores1"
   ]
  },
  {
   "cell_type": "markdown",
   "metadata": {},
   "source": [
    "**Print the best accuracy on cross-validation and corresponding value of `C`.**"
   ]
  },
  {
   "cell_type": "code",
   "execution_count": 20,
   "metadata": {},
   "outputs": [
    {
     "data": {
      "text/plain": [
       "array([1.00000000e-04, 4.64158883e-04, 2.15443469e-03, 1.00000000e-02,\n",
       "       4.64158883e-02, 2.15443469e-01, 1.00000000e+00, 4.64158883e+00,\n",
       "       2.15443469e+01, 1.00000000e+02])"
      ]
     },
     "execution_count": 20,
     "metadata": {},
     "output_type": "execute_result"
    }
   ],
   "source": [
    "logit_grid_searcher1.Cs_"
   ]
  },
  {
   "cell_type": "code",
   "execution_count": 28,
   "metadata": {},
   "outputs": [
    {
     "data": {
      "text/plain": [
       "(0.758996027558808, 1.0)"
      ]
     },
     "execution_count": 28,
     "metadata": {},
     "output_type": "execute_result"
    }
   ],
   "source": [
    "np.max(logit_mean_cv_scores1),logit_c_values1[np.argmax(logit_mean_cv_scores1)]"
   ]
  },
  {
   "cell_type": "markdown",
   "metadata": {},
   "source": [
    "**Plot Accuracy vs. `C` dependency graph on cross-validation.**"
   ]
  },
  {
   "cell_type": "code",
   "execution_count": 23,
   "metadata": {},
   "outputs": [
    {
     "data": {
      "image/png": "[encoded data removed]",
      "text/plain": [
       "<Figure size 432x288 with 1 Axes>"
      ]
     },
     "metadata": {},
     "output_type": "display_data"
    }
   ],
   "source": [
    "plt.plot(logit_c_values1, logit_mean_cv_scores1);"
   ]
  },
  {
   "cell_type": "markdown",
   "metadata": {},
   "source": [
    "**Now, do the same again but search `C` values in range `np.linspace`(0.1, 7, 20). Plot the validation curves and find the best accuracy on cross-validation.**"
   ]
  },
  {
   "cell_type": "code",
   "execution_count": 24,
   "metadata": {},
   "outputs": [
    {
     "name": "stdout",
     "output_type": "stream",
     "text": [
      "Wall time: 1min 21s\n"
     ]
    }
   ],
   "source": [
    "%%time\n",
    "logit_c_values2 = np.linspace(0.1, 7, 20)\n",
    "\n",
    "logit_grid_searcher2 = LogisticRegressionCV(logit_c_values2,random_state=17, multi_class='multinomial',cv=skf) \n",
    "logit_grid_searcher2.fit(X_train, y_train)"
   ]
  },
  {
   "cell_type": "markdown",
   "metadata": {},
   "source": [
    "**Mean accuracy during cross-validation for each of 10 `C` values.**"
   ]
  },
  {
   "cell_type": "code",
   "execution_count": 25,
   "metadata": {},
   "outputs": [
    {
     "data": {
      "text/plain": [
       "array([0.7354267 , 0.75868969, 0.75858949, 0.75787777, 0.7580817 ,\n",
       "       0.75787907, 0.75798091, 0.75757466, 0.7570673 , 0.75686494,\n",
       "       0.75716964, 0.75666178, 0.75595074, 0.75574792, 0.75524069,\n",
       "       0.75483505, 0.75442873, 0.75463214, 0.75453089, 0.75381935])"
      ]
     },
     "execution_count": 25,
     "metadata": {},
     "output_type": "execute_result"
    }
   ],
   "source": [
    "logit_mean_cv_scores2 = logit_grid_searcher2.scores_[1].mean(axis=0)\n",
    "logit_mean_cv_scores2"
   ]
  },
  {
   "cell_type": "markdown",
   "metadata": {},
   "source": [
    "**Print the best accuracy on cross-validation and corresponding value of C.**"
   ]
  },
  {
   "cell_type": "code",
   "execution_count": 26,
   "metadata": {},
   "outputs": [
    {
     "data": {
      "text/plain": [
       "(0.7586896943864367, 0.4631578947368421)"
      ]
     },
     "execution_count": 26,
     "metadata": {},
     "output_type": "execute_result"
    }
   ],
   "source": [
    "np.max(logit_mean_cv_scores2),logit_c_values2[np.argmax(logit_mean_cv_scores2)]"
   ]
  },
  {
   "cell_type": "markdown",
   "metadata": {},
   "source": [
    "**Plot Accuracy vs. `C` dependency graph on cross-validation.**"
   ]
  },
  {
   "cell_type": "code",
   "execution_count": 27,
   "metadata": {},
   "outputs": [
    {
     "data": {
      "image/png": "[encoded data removed]",
      "text/plain": [
       "<Figure size 432x288 with 1 Axes>"
      ]
     },
     "metadata": {},
     "output_type": "display_data"
    }
   ],
   "source": [
    "plt.plot(logit_c_values2, logit_mean_cv_scores2);"
   ]
  },
  {
   "cell_type": "markdown",
   "metadata": {},
   "source": [
    "**Print logistic regressoin's accuracy with the best `C` value on `(X_valid, y_valid)`.**"
   ]
  },
  {
   "cell_type": "code",
   "execution_count": 28,
   "metadata": {},
   "outputs": [],
   "source": [
    "logit_cv_acc = accuracy_score(y_valid,logit_grid_searcher2.predict(X_valid))"
   ]
  },
  {
   "cell_type": "code",
   "execution_count": 29,
   "metadata": {},
   "outputs": [
    {
     "data": {
      "text/plain": [
       "0.7748281583313581"
      ]
     },
     "execution_count": 29,
     "metadata": {},
     "output_type": "execute_result"
    }
   ],
   "source": [
    "logit_cv_acc"
   ]
  },
  {
   "cell_type": "code",
   "execution_count": 35,
   "metadata": {},
   "outputs": [
    {
     "data": {
      "text/plain": [
       "0.7748281583313581"
      ]
     },
     "execution_count": 35,
     "metadata": {},
     "output_type": "execute_result"
    }
   ],
   "source": [
    "logit_cv_acc"
   ]
  },
  {
   "cell_type": "markdown",
   "metadata": {},
   "source": [
    "**<font color='red'>Question 3. </font> Evaluate model's mean accuracy for `logit_grid_searcher2` on cross-validation using the best `C` and its accuracy on the validation dataset. Round your answers up to the third digit after a decimal point. Write your answers with a space between them.**"
   ]
  },
  {
   "cell_type": "code",
   "execution_count": 54,
   "metadata": {},
   "outputs": [],
   "source": [
    "#0.7586896943864367, #0.7748281583313581"
   ]
  },
  {
   "cell_type": "markdown",
   "metadata": {},
   "source": [
    "**4. Train SVM (`LinearSVC`) with `C`=1 and `random_state`=17. Compare model's mean accuracy during cross-validation (don't forget to use `skf` object) and model's ccuracy on `(X_valid, y_valid)`.**"
   ]
  },
  {
   "cell_type": "code",
   "execution_count": 3,
   "metadata": {},
   "outputs": [],
   "source": [
    "from sklearn.svm import LinearSVC"
   ]
  },
  {
   "cell_type": "code",
   "execution_count": 56,
   "metadata": {},
   "outputs": [
    {
     "data": {
      "text/plain": [
       "0.7769613652524295"
      ]
     },
     "execution_count": 56,
     "metadata": {},
     "output_type": "execute_result"
    }
   ],
   "source": [
    "svm = LinearSVC(C=1, random_state=17)\n",
    "svm.fit(X_train,y_train)\n",
    "accuracy_score(y_valid,svm.predict(X_valid))"
   ]
  },
  {
   "cell_type": "code",
   "execution_count": 59,
   "metadata": {},
   "outputs": [
    {
     "data": {
      "text/plain": [
       "0.7527976723012523"
      ]
     },
     "execution_count": 59,
     "metadata": {},
     "output_type": "execute_result"
    }
   ],
   "source": [
    "cross_val_score(svm, X_train,y_train,cv=skf, n_jobs=-1).mean()"
   ]
  },
  {
   "cell_type": "markdown",
   "metadata": {},
   "source": [
    "**Using `GridSearchCV` find optimal C value for SVM. Fisrt try wider range: 10 values from 1e-4 up to 1e2 using `linspace` from NumPy. Plot the validation curves.**"
   ]
  },
  {
   "cell_type": "code",
   "execution_count": 60,
   "metadata": {},
   "outputs": [
    {
     "name": "stdout",
     "output_type": "stream",
     "text": [
      "Wall time: 47.7 s\n"
     ]
    }
   ],
   "source": [
    "%%time\n",
    "svm_params1 = {'C': np.linspace(1e-4, 1e4, 10)}\n",
    "\n",
    "svm_grid_searcher1 = GridSearchCV(svm,svm_params1,n_jobs=-1,cv=skf)\n",
    "svm_grid_searcher1.fit(X_train, y_train)"
   ]
  },
  {
   "cell_type": "markdown",
   "metadata": {},
   "source": [
    "**Print the best accuracy on cross-validation and corresponding value of `C`.**"
   ]
  },
  {
   "cell_type": "code",
   "execution_count": 63,
   "metadata": {},
   "outputs": [
    {
     "data": {
      "text/plain": [
       "(0.6845153424100793, {'C': 3333.3334000000004})"
      ]
     },
     "execution_count": 63,
     "metadata": {},
     "output_type": "execute_result"
    }
   ],
   "source": [
    "svm_grid_searcher1.best_score_, svm_grid_searcher1.best_params_"
   ]
  },
  {
   "cell_type": "markdown",
   "metadata": {},
   "source": [
    "**Plot Accuracy vs. C dependency graph on cross-validation.**"
   ]
  },
  {
   "cell_type": "code",
   "execution_count": 64,
   "metadata": {},
   "outputs": [
    {
     "data": {
      "image/png": "[encoded data removed]",
      "text/plain": [
       "<Figure size 432x288 with 1 Axes>"
      ]
     },
     "metadata": {},
     "output_type": "display_data"
    }
   ],
   "source": [
    "plot_validation_curves(svm_params1['C'], svm_grid_searcher1.cv_results_)"
   ]
  },
  {
   "cell_type": "markdown",
   "metadata": {},
   "source": [
    "**But we remember that using deafault regularization parameter (`C`=1) on cross-validation we get a higher accuracy. That's the case (not rare) of a possibility to make a mistake and searching parameters in a wrong range (the reason is that we took a uniform grid on a large scale and missed optimal interval of `C` values). It is more meaningful to search `C` near 1, in addition, model trains faster than with higher values of `C`.**\n",
    "\n",
    "**Using `GridSearchCV` find optimal `C` value for SVM in range(1e-3, 1), 30 values, use `linspace` from NumPy. Plt the validation curves.**"
   ]
  },
  {
   "cell_type": "code",
   "execution_count": 8,
   "metadata": {},
   "outputs": [
    {
     "name": "stdout",
     "output_type": "stream",
     "text": [
      "Wall time: 1min 10s\n"
     ]
    }
   ],
   "source": [
    "%%time\n",
    "svm = LinearSVC(C=1, random_state=17)\n",
    "svm_params2 = {'C': np.linspace(1e-3, 1, 30)}\n",
    "\n",
    "svm_grid_searcher2 = GridSearchCV(svm,svm_params2,n_jobs=-1,cv=skf)\n",
    "svm_grid_searcher2.fit(X_train, y_train)"
   ]
  },
  {
   "cell_type": "markdown",
   "metadata": {},
   "source": [
    "**Print the best accuracy on cross-validation and corresponding value of `C`.**"
   ]
  },
  {
   "cell_type": "code",
   "execution_count": 9,
   "metadata": {},
   "outputs": [
    {
     "data": {
      "text/plain": [
       "(0.764681975208291, {'C': 0.10434482758620689})"
      ]
     },
     "execution_count": 9,
     "metadata": {},
     "output_type": "execute_result"
    }
   ],
   "source": [
    "svm_grid_searcher2.best_score_, svm_grid_searcher2.best_params_"
   ]
  },
  {
   "cell_type": "markdown",
   "metadata": {},
   "source": [
    "**Plot Accuracy vs. C dependency graph on cross-validation.**"
   ]
  },
  {
   "cell_type": "code",
   "execution_count": 67,
   "metadata": {},
   "outputs": [
    {
     "data": {
      "image/png": "[encoded data removed]",
      "text/plain": [
       "<Figure size 432x288 with 1 Axes>"
      ]
     },
     "metadata": {},
     "output_type": "display_data"
    }
   ],
   "source": [
    "plot_validation_curves(svm_params2['C'], svm_grid_searcher2.cv_results_)"
   ]
  },
  {
   "cell_type": "markdown",
   "metadata": {},
   "source": [
    "**Print `LinearSVC`'s accuracy with the best `C` value on (X_valid, y_valid).**"
   ]
  },
  {
   "cell_type": "code",
   "execution_count": 71,
   "metadata": {},
   "outputs": [
    {
     "data": {
      "text/plain": [
       "0.7807537331121118"
      ]
     },
     "execution_count": 71,
     "metadata": {},
     "output_type": "execute_result"
    }
   ],
   "source": [
    "svm_cv_acc = accuracy_score(y_valid,svm_grid_searcher2.best_estimator_.predict(X_valid))\n",
    "svm_cv_acc"
   ]
  },
  {
   "cell_type": "markdown",
   "metadata": {},
   "source": [
    "**<font color='red'>Question 4. </font> Evaluate model's mean accuracy for `svm_grid_searcher2` on cross-validation using the best `C` and its accuracy on the validation dataset. Round your answers up to the third digit after a decimal point. Write your answers with a space between them.**"
   ]
  },
  {
   "cell_type": "code",
   "execution_count": null,
   "metadata": {
    "collapsed": true
   },
   "outputs": [],
   "source": [
    "#0.764681975208291, #0.7807537331121118"
   ]
  },
  {
   "cell_type": "markdown",
   "metadata": {},
   "source": [
    "## Part 2. Parameter tuning – session_length and window_size"
   ]
  },
  {
   "cell_type": "markdown",
   "metadata": {},
   "source": [
    "**Let's take `LinearSVC` since it performed best on cross-validation in part 1 and check its performance on 8 datasets of 10 users (with different combiantions of `session_length` and `window_size`). Since there are much more computations, we will not search regularization parameter `C` each time.**\n",
    "\n",
    "**Write the `model_assessment` function with the specification provided below. Pay your attention to all details, e.g. `train_test_split` should be stratified. Don't forget `random_state` anywhere.**"
   ]
  },
  {
   "cell_type": "code",
   "execution_count": 11,
   "metadata": {},
   "outputs": [],
   "source": [
    "def model_assessment(estimator, path_to_X_pickle, path_to_y_pickle, cv, random_state=17, test_size=0.3):\n",
    "    '''\n",
    "    Estimates CV-accuracy for (1 - test_size) share of (X_sparse, y) \n",
    "    loaded from path_to_X_pickle and path_to_y_pickle and holdout accuracy for (test_size) share of (X_sparse, y).\n",
    "    The split is made with stratified train_test_split with params random_state and test_size.\n",
    "    \n",
    "    :param estimator – Scikit-learn estimator (classifier or regressor)\n",
    "    :param path_to_X_pickle – path to pickled sparse X (instances and their features)\n",
    "    :param path_to_y_pickle – path to pickled y (responses)\n",
    "    :param cv – cross-validation as in cross_val_score (use StratifiedKFold here)\n",
    "    :param random_state –  for train_test_split\n",
    "    :param test_size –  for train_test_split\n",
    "    \n",
    "    :returns mean CV-accuracy for (X_train, y_train) and accuracy for (X_valid, y_valid) where (X_train, y_train)\n",
    "    and (X_valid, y_valid) are (1 - test_size) and (testsize) shares of (X_sparse, y).\n",
    "    '''\n",
    "    start_time = time()\n",
    "    #You might wanna check the `encoding` param if you face any error while opening the .pkl files..\n",
    "    with open(path_to_X_pickle, 'rb') as X_sparse_users_pkl:\n",
    "        X_sparse_users = pickle.load(X_sparse_users_pkl)\n",
    "    with open(path_to_y_pickle, 'rb') as y_users_pkl:\n",
    "        y_users = pickle.load(y_users_pkl)\n",
    "    \n",
    "    X_train, X_valid, y_train, y_valid = train_test_split(X_sparse_users, y_users, \n",
    "                                                      test_size=0.3, \n",
    "                                                      random_state=17, stratify=y_users)\n",
    "    estimator.fit(X_train,y_train)\n",
    "    \n",
    "    cv_score, acc_score = cross_val_score(estimator,X_train,y_train,cv=cv).mean(), accuracy_score(y_valid,estimator.predict(X_valid))\n",
    "    \n",
    "    total_time = time()-start_time\n",
    "    return  cv_score, acc_score, total_time"
   ]
  },
  {
   "cell_type": "markdown",
   "metadata": {},
   "source": [
    "**Double-check that the function is working.**"
   ]
  },
  {
   "cell_type": "code",
   "execution_count": 84,
   "metadata": {},
   "outputs": [
    {
     "data": {
      "text/plain": [
       "(0.7646853244550981, 0.7807537331121118, 2.2375643253326416)"
      ]
     },
     "execution_count": 84,
     "metadata": {},
     "output_type": "execute_result"
    }
   ],
   "source": [
    "model_assessment(svm_grid_searcher2.best_estimator_, \n",
    "                 os.path.join(PATH_TO_DATA, 'X_sparse_10users.pkl'),\n",
    "        os.path.join(PATH_TO_DATA, 'y_10users.pkl'), skf, random_state=17, test_size=0.3)"
   ]
  },
  {
   "cell_type": "markdown",
   "metadata": {},
   "source": [
    "**Apply `model_assessment` function for the best algorithm from the previous part (namely, `svm_grid_searcher2.best_estimator_`) and 9 datasets with different combinations of `session_length` and `window_size` of 10 users. Print `session_length` and `window_size` parameters in the loop as well as an output of the `model_assessment` function.\n",
    "It's handy if the `model_assessment` function returns execution time as a third output argument. It took 20 sec to execute this code snippet on my laptop. But with 150 users dataset, each iteration takes a couple of minutes.**"
   ]
  },
  {
   "cell_type": "markdown",
   "metadata": {},
   "source": [
    "Here, for the convinience it worth to create copies of pickle-files `X_sparse_10users.pkl`, `X_sparse_150users.pkl`, `y_10users.pkl` and `y_150users.pkl` adding `s10_w10` to their names, which means session length of 10 and window width of 10."
   ]
  },
  {
   "cell_type": "code",
   "execution_count": null,
   "metadata": {},
   "outputs": [],
   "source": [
    "# Won't work on non-Linux based Machines (Basically it's creating copies of the files)\n",
    "!cp $PATH_TO_DATA/X_sparse_10users.pkl $PATH_TO_DATA/X_sparse_10users_s10_w10.pkl \n",
    "!cp $PATH_TO_DATA/X_sparse_150users.pkl $PATH_TO_DATA/X_sparse_150users_s10_w10.pkl \n",
    "!cp $PATH_TO_DATA/y_10users.pkl $PATH_TO_DATA/y_10users_s10_w10.pkl \n",
    "!cp $PATH_TO_DATA/y_150users.pkl $PATH_TO_DATA/y_150users_s10_w10.pkl "
   ]
  },
  {
   "cell_type": "code",
   "execution_count": 86,
   "metadata": {},
   "outputs": [
    {
     "name": "stdout",
     "output_type": "stream",
     "text": [
      "session_length:15 window_size:10 mean_cv_acc:0.8238214955278105 acc_val:0.8404835269021095 time:4.855405330657959\n",
      "session_length:10 window_size:10 mean_cv_acc:0.7646853244550981 acc_val:0.7807537331121118 time:2.3681576251983643\n",
      "session_length:15 window_size:7 mean_cv_acc:0.8479403769844098 acc_val:0.8543222166915547 time:5.913271903991699\n",
      "session_length:10 window_size:7 mean_cv_acc:0.7970161463734652 acc_val:0.8073668491786958 time:3.825791597366333\n",
      "session_length:7 window_size:7 mean_cv_acc:0.7529891114830342 acc_val:0.7617388418782147 time:2.262112855911255\n",
      "session_length:15 window_size:5 mean_cv_acc:0.868001372554347 acc_val:0.8752963489805595 time:8.573070526123047\n",
      "session_length:10 window_size:5 mean_cv_acc:0.8159247205318039 acc_val:0.8245614035087719 time:6.552319288253784\n",
      "session_length:7 window_size:5 mean_cv_acc:0.774058674563226 acc_val:0.7853247984826932 time:2.6269519329071045\n",
      "session_length:5 window_size:5 mean_cv_acc:0.7252830650398828 acc_val:0.7362494073020389 time:1.7511937618255615\n",
      "Wall time: 38.7 s\n"
     ]
    }
   ],
   "source": [
    "%%time\n",
    "estimator = svm_grid_searcher2.best_estimator_\n",
    "\n",
    "for window_size, session_length in itertools.product([10, 7, 5], [15, 10, 7, 5]):\n",
    "    if window_size <= session_length:\n",
    "        path_to_X_pkl = os.path.join(PATH_TO_DATA,'X_sparse_10users_s{}_w{}.pkl'.format(session_length,window_size))\n",
    "        path_to_y_pkl = os.path.join(PATH_TO_DATA,'y_10users_s{}_w{}.pkl'.format(session_length,window_size))\n",
    "        \n",
    "        cv_acc, acc_val, time_taken = model_assessment(estimator, path_to_X_pkl,path_to_y_pkl, skf, random_state=17, test_size=0.3)\n",
    "        \n",
    "        print ('session_length:{} window_size:{} mean_cv_acc:{} acc_val:{} time:{}'.format(session_length,window_size,cv_acc,acc_val,time_taken))      "
   ]
  },
  {
   "cell_type": "markdown",
   "metadata": {},
   "source": [
    "**<font color='red'>Question 5. </font> Evaluate `LinearSVC`'s accuracy  with optimal `C` on `X_sparse_10users_s15_w5` dataset. Write model's mean accuracy on cross-validation and its accuracy on validation dataset. Round your answers up to the third digit after a decimal point. Write your answers with a space between them.**"
   ]
  },
  {
   "cell_type": "code",
   "execution_count": 10,
   "metadata": {},
   "outputs": [],
   "source": [
    "# mean_cv_acc:0.868001372554347 acc_val:0.8752963489805595"
   ]
  },
  {
   "cell_type": "markdown",
   "metadata": {},
   "source": [
    "**Comment on the results. Compare mean accuracy on cross-validation and on validation dataset using the following combinations of parameters(`session_length, window_size`): (5,5), (7,7) и (10,10). On average laptop it could take up to an hour. After all, it's data science :)**.\n",
    "\n",
    "**Make a conclusion about how accuracy depends on session length and window width.**"
   ]
  },
  {
   "cell_type": "code",
   "execution_count": 12,
   "metadata": {},
   "outputs": [
    {
     "name": "stdout",
     "output_type": "stream",
     "text": [
      "session_length:5 window_size:5 mean_cv_acc:0.40858659509908596 acc_val:0.42171606560568453 time:458.21992087364197\n",
      "session_length:7 window_size:7 mean_cv_acc:0.43638649409423974 acc_val:0.45295840855673264 time:424.82732629776\n",
      "session_length:10 window_size:10 mean_cv_acc:0.4612588999427913 acc_val:0.4836276942538802 time:376.2286956310272\n",
      "Wall time: 20min 59s\n"
     ]
    }
   ],
   "source": [
    "%%time\n",
    "estimator = svm_grid_searcher2.best_estimator_\n",
    "\n",
    "for window_size, session_length in [(5,5), (7,7), (10,10)]:\n",
    "    path_to_X_pkl = os.path.join(PATH_TO_DATA,'X_sparse_150users_s{}_w{}.pkl'.format(session_length,window_size))\n",
    "    path_to_y_pkl = os.path.join(PATH_TO_DATA,'y_150users_s{}_w{}.pkl'.format(session_length,window_size))\n",
    "\n",
    "    cv_acc, acc_val, time_taken = model_assessment(estimator, path_to_X_pkl,path_to_y_pkl, skf, random_state=17, test_size=0.3)\n",
    "    print ('session_length:{} window_size:{} mean_cv_acc:{} acc_val:{} time:{}'.format(session_length,window_size,cv_acc,acc_val,time_taken))      "
   ]
  },
  {
   "cell_type": "markdown",
   "metadata": {},
   "source": [
    "**<font color='red'>Question 6. </font> Evaluate `LinearSVC`'s accuracy with optimal `C` value on `X_sparse_150users`. Write model's accuracy on cross-validation and on the validation dataset. Round your answers up to the third digit after a decimal point. Write your answers with a space between them.**"
   ]
  },
  {
   "cell_type": "code",
   "execution_count": 13,
   "metadata": {},
   "outputs": [],
   "source": [
    "#mean_cv_acc:0.4612588999427913 acc_val:0.4836276942538802"
   ]
  },
  {
   "cell_type": "markdown",
   "metadata": {},
   "source": [
    "## Part 3. Particular user identification and learning curves"
   ]
  },
  {
   "cell_type": "markdown",
   "metadata": {},
   "source": [
    "**Since it may dissapoint that accuracy at multiclass classification problem on 150 users dataset is low, let's joy the fact that some particular user could be identified quite well.**"
   ]
  },
  {
   "cell_type": "markdown",
   "metadata": {},
   "source": [
    "**Load `X_sparse_150users` and `y_150users` objects serialized earlier which correspond to 150 users dataset with parameters (*session_length, window_size*) = (10,10). Split them into two parts: 70% train data and 30% validation data.**"
   ]
  },
  {
   "cell_type": "code",
   "execution_count": 30,
   "metadata": {},
   "outputs": [],
   "source": [
    "with open(os.path.join(PATH_TO_DATA, \"picklefiles\",'X_sparse_150users.pkl'), 'rb') as X_sparse_150users_pkl:\n",
    "     X_sparse_150users = pickle.load(X_sparse_150users_pkl)\n",
    "with open(os.path.join(PATH_TO_DATA, \"picklefiles\",'y_150users.pkl'), 'rb') as y_150users_pkl:\n",
    "    y_150users = pickle.load(y_150users_pkl)"
   ]
  },
  {
   "cell_type": "code",
   "execution_count": 31,
   "metadata": {},
   "outputs": [],
   "source": [
    "X_train_150, X_valid_150, y_train_150, y_valid_150 = train_test_split(X_sparse_150users, \n",
    "                                                                      y_150users, test_size=0.3, \n",
    "                                                     random_state=17, stratify=y_150users)"
   ]
  },
  {
   "cell_type": "markdown",
   "metadata": {},
   "source": [
    "**Train `LogisticRegressionCV` with single `C` value (take the best `C` value on cross-validation in part 1, use an accurate value, not an approximate one). Now we are going to solve 150 tasks One-vs-All, hence set `multi_class`='ovr'. As usual, set `n_jobs=-1` and `random_state`=17 where it is possible (this training might take up to 20 min).**"
   ]
  },
  {
   "cell_type": "code",
   "execution_count": 32,
   "metadata": {},
   "outputs": [
    {
     "name": "stdout",
     "output_type": "stream",
     "text": [
      "Wall time: 8min 20s\n"
     ]
    }
   ],
   "source": [
    "%%time\n",
    "logit_cv_150users = LogisticRegressionCV(Cs = [0.4631578947368421], multi_class='ovr', n_jobs=-1, random_state=17)\n",
    "logit_cv_150users.fit(X_train_150, y_train_150)"
   ]
  },
  {
   "cell_type": "markdown",
   "metadata": {},
   "source": [
    "**Compare mean accuracy on cross-validation for each user identification problem separately.**"
   ]
  },
  {
   "cell_type": "code",
   "execution_count": 35,
   "metadata": {},
   "outputs": [
    {
     "data": {
      "text/plain": [
       "0.995850217686121"
      ]
     },
     "execution_count": 35,
     "metadata": {},
     "output_type": "execute_result"
    }
   ],
   "source": [
    "logit_cv_150users.scores_[1].mean()"
   ]
  },
  {
   "cell_type": "code",
   "execution_count": 44,
   "metadata": {},
   "outputs": [
    {
     "data": {
      "text/plain": [
       "0.9958396485310578"
      ]
     },
     "execution_count": 44,
     "metadata": {},
     "output_type": "execute_result"
    }
   ],
   "source": [
    "logit_cv_150users.scores_[1].mean()"
   ]
  },
  {
   "cell_type": "code",
   "execution_count": 36,
   "metadata": {},
   "outputs": [
    {
     "name": "stdout",
     "output_type": "stream",
     "text": [
      "User 1, CV score: 0.995850217686121\n",
      "User 2, CV score: 0.9962154692488628\n",
      "User 3, CV score: 0.9951310537804167\n",
      "User 4, CV score: 0.9915759824185644\n",
      "User 5, CV score: 0.989886456818156\n",
      "User 6, CV score: 0.9945366562081962\n",
      "User 7, CV score: 0.9935672094050271\n",
      "User 8, CV score: 0.9860393314979725\n",
      "User 9, CV score: 0.9980607063671277\n",
      "User 10, CV score: 0.9948599899870656\n",
      "User 11, CV score: 0.9944221631139541\n",
      "User 12, CV score: 0.9936091179828602\n",
      "User 13, CV score: 0.9969347547292645\n",
      "User 14, CV score: 0.9949642340422806\n",
      "User 15, CV score: 0.9963612170153343\n",
      "User 16, CV score: 0.9963509868624326\n",
      "User 17, CV score: 0.9905331098557655\n",
      "User 18, CV score: 0.9943387038465749\n",
      "User 19, CV score: 0.9947556519752707\n",
      "User 20, CV score: 0.9911796417927246\n",
      "User 21, CV score: 0.979971783259702\n",
      "User 22, CV score: 0.9968097113660846\n",
      "User 23, CV score: 0.994463455185883\n",
      "User 24, CV score: 0.9905019210479512\n",
      "User 25, CV score: 0.9965177920804397\n",
      "User 26, CV score: 0.9942136517514025\n",
      "User 27, CV score: 0.9949642296762843\n",
      "User 28, CV score: 0.9910013922961323\n",
      "User 29, CV score: 0.9846215462730984\n",
      "User 30, CV score: 0.9972474307105808\n",
      "User 31, CV score: 0.9970494497827481\n",
      "User 32, CV score: 0.9967575590633144\n",
      "User 33, CV score: 0.9973205038960132\n",
      "User 34, CV score: 0.9966116088635545\n",
      "User 35, CV score: 0.9968514029905003\n",
      "User 36, CV score: 0.9971847741690688\n",
      "User 37, CV score: 0.9874889379788353\n",
      "User 38, CV score: 0.9965489343840109\n",
      "User 39, CV score: 0.9962779035228674\n",
      "User 40, CV score: 0.9967366377066055\n",
      "User 41, CV score: 0.9901474125073498\n",
      "User 42, CV score: 0.9891983218992711\n",
      "User 43, CV score: 0.9962673580939724\n",
      "User 44, CV score: 0.9957983046407962\n",
      "User 45, CV score: 0.9960902989968957\n",
      "User 46, CV score: 0.9950371624008941\n",
      "User 47, CV score: 0.9960275920591912\n",
      "User 48, CV score: 0.997080615338441\n",
      "User 49, CV score: 0.9951623607450258\n",
      "User 50, CV score: 0.9963926174624763\n",
      "User 51, CV score: 0.9918049700291887\n",
      "User 52, CV score: 0.9960693776401865\n",
      "User 53, CV score: 0.9957981535517938\n",
      "User 54, CV score: 0.9950684737314995\n",
      "User 55, CV score: 0.9972370780348884\n",
      "User 56, CV score: 0.9896053512591094\n",
      "User 57, CV score: 0.9927537308411448\n",
      "User 58, CV score: 0.996694945608143\n",
      "User 59, CV score: 0.9869463575991726\n",
      "User 60, CV score: 0.9889068123202459\n",
      "User 61, CV score: 0.9943803252405793\n",
      "User 62, CV score: 0.9904493788727801\n",
      "User 63, CV score: 0.9959128679654495\n",
      "User 64, CV score: 0.9910754592359283\n",
      "User 65, CV score: 0.997164107538028\n",
      "User 66, CV score: 0.9956420206514691\n",
      "User 67, CV score: 0.9974560408697553\n",
      "User 68, CV score: 0.9957775004927883\n",
      "User 69, CV score: 0.9966219281329929\n",
      "User 70, CV score: 0.9967887386650895\n",
      "User 71, CV score: 0.996090021019106\n",
      "User 72, CV score: 0.9969138048063443\n",
      "User 73, CV score: 0.9967366662728168\n",
      "User 74, CV score: 0.9921492019126456\n",
      "User 75, CV score: 0.996809622249548\n",
      "User 76, CV score: 0.9923889170771875\n",
      "User 77, CV score: 0.9975498242466158\n",
      "User 78, CV score: 0.996590706392971\n",
      "User 79, CV score: 0.9964028476153778\n",
      "User 80, CV score: 0.9908247051334248\n",
      "User 81, CV score: 0.9967992840939846\n",
      "User 82, CV score: 0.994276020160992\n",
      "User 83, CV score: 0.9961007407891248\n",
      "User 84, CV score: 0.9970702771828774\n",
      "User 85, CV score: 0.9951413686838585\n",
      "User 86, CV score: 0.9970702253645446\n",
      "User 87, CV score: 0.9974977048760532\n",
      "User 88, CV score: 0.9892924636384656\n",
      "User 89, CV score: 0.9967784378077299\n",
      "User 90, CV score: 0.9952977509957618\n",
      "User 91, CV score: 0.9941925657336558\n",
      "User 92, CV score: 0.9935878997622364\n",
      "User 93, CV score: 0.9845481844816967\n",
      "User 94, CV score: 0.9968616665496562\n",
      "User 95, CV score: 0.9955271560969047\n",
      "User 96, CV score: 0.991919839423796\n",
      "User 97, CV score: 0.9892613648952815\n",
      "User 98, CV score: 0.998279862429244\n",
      "User 99, CV score: 0.990939498983531\n",
      "User 100, CV score: 0.9900118004631535\n",
      "User 101, CV score: 0.9942968804933289\n",
      "User 102, CV score: 0.9864774130967519\n",
      "User 103, CV score: 0.9805027813697657\n",
      "User 104, CV score: 0.9813996775368272\n",
      "User 105, CV score: 0.9914404197228919\n",
      "User 106, CV score: 0.9956105257737006\n",
      "User 107, CV score: 0.9972265979963616\n",
      "User 108, CV score: 0.9971849862824432\n",
      "User 109, CV score: 0.9974457966707714\n",
      "User 110, CV score: 0.9973517876085009\n",
      "User 111, CV score: 0.9953289354375797\n",
      "User 112, CV score: 0.9970076540476199\n",
      "User 113, CV score: 0.9965386098004828\n",
      "User 114, CV score: 0.9969451679552824\n",
      "User 115, CV score: 0.995777091734262\n",
      "User 116, CV score: 0.996486425039552\n",
      "User 117, CV score: 0.9944846918185855\n",
      "User 118, CV score: 0.9966639635996133\n",
      "User 119, CV score: 0.9969869588503677\n",
      "User 120, CV score: 0.9955792662614281\n",
      "User 121, CV score: 0.9963195249168718\n",
      "User 122, CV score: 0.9965801280318684\n",
      "User 123, CV score: 0.9971639806492406\n",
      "User 124, CV score: 0.9957669506978973\n",
      "User 125, CV score: 0.9946306463843415\n",
      "User 126, CV score: 0.9968618593028586\n",
      "User 127, CV score: 0.9980605697982545\n",
      "User 128, CV score: 0.9967053874003722\n",
      "User 129, CV score: 0.9953289877299595\n",
      "User 130, CV score: 0.9901260213677423\n",
      "User 131, CV score: 0.9926810799862741\n",
      "User 132, CV score: 0.9969555395171003\n",
      "User 133, CV score: 0.9968305431322103\n",
      "User 134, CV score: 0.9964656625557441\n",
      "User 135, CV score: 0.9976750463169158\n",
      "User 136, CV score: 0.9973622105146047\n",
      "User 137, CV score: 0.9970181006798922\n",
      "User 138, CV score: 0.9932752857533856\n",
      "User 139, CV score: 0.9943908333712703\n",
      "User 140, CV score: 0.996184129352046\n",
      "User 141, CV score: 0.9967365389099827\n",
      "User 142, CV score: 0.9976020332077619\n",
      "User 143, CV score: 0.9955378613467945\n",
      "User 144, CV score: 0.9951204807334039\n",
      "User 145, CV score: 0.9973622574928948\n",
      "User 146, CV score: 0.9954646317582698\n",
      "User 147, CV score: 0.9933273440995762\n",
      "User 148, CV score: 0.9964969419022355\n",
      "User 149, CV score: 0.9958714204385223\n",
      "User 150, CV score: 0.9970701217278789\n"
     ]
    }
   ],
   "source": [
    "cv_scores_by_user = {}\n",
    "for user_id in logit_cv_150users.scores_:\n",
    "    cv_scores_by_user[user_id] =logit_cv_150users.scores_[user_id].mean()\n",
    "    print('User {}, CV score: {}'.format(user_id,cv_scores_by_user[user_id]))"
   ]
  },
  {
   "cell_type": "code",
   "execution_count": 45,
   "metadata": {},
   "outputs": [
    {
     "name": "stdout",
     "output_type": "stream",
     "text": [
      "User 1, CV score: 0.9958396485310578\n",
      "User 2, CV score: 0.996236159606072\n",
      "User 3, CV score: 0.9951414156621485\n",
      "User 4, CV score: 0.9917629636028263\n",
      "User 5, CV score: 0.990032646749408\n",
      "User 6, CV score: 0.9945992933895361\n",
      "User 7, CV score: 0.9936295923347456\n",
      "User 8, CV score: 0.9857474441964414\n",
      "User 9, CV score: 0.9979773735144889\n",
      "User 10, CV score: 0.9949328849394247\n",
      "User 11, CV score: 0.9944847392709221\n",
      "User 12, CV score: 0.9936087227963695\n",
      "User 13, CV score: 0.9969973347781819\n",
      "User 14, CV score: 0.9949640742212859\n",
      "User 15, CV score: 0.9963612639936241\n",
      "User 16, CV score: 0.9963196987839488\n",
      "User 17, CV score: 0.9905122649916512\n",
      "User 18, CV score: 0.9943596252032839\n",
      "User 19, CV score: 0.9947138940123931\n",
      "User 20, CV score: 0.991190153815365\n",
      "User 21, CV score: 0.9798259124963927\n",
      "User 22, CV score: 0.9968201105460203\n",
      "User 23, CV score: 0.9945051894225921\n",
      "User 24, CV score: 0.9906581115547454\n",
      "User 25, CV score: 0.9966011573912393\n",
      "User 26, CV score: 0.9942028893690901\n",
      "User 27, CV score: 0.9949953666657659\n",
      "User 28, CV score: 0.9910750393751755\n",
      "User 29, CV score: 0.9845696099756521\n",
      "User 30, CV score: 0.997195338958136\n",
      "User 31, CV score: 0.9970494778749127\n",
      "User 32, CV score: 0.9968616573436172\n",
      "User 33, CV score: 0.9972996440377231\n",
      "User 34, CV score: 0.996538553616154\n",
      "User 35, CV score: 0.996840961672318\n",
      "User 36, CV score: 0.9973101662144965\n",
      "User 37, CV score: 0.9874161297727787\n",
      "User 38, CV score: 0.9964863587010901\n",
      "User 39, CV score: 0.9963194919846642\n",
      "User 40, CV score: 0.9967053544681646\n",
      "User 41, CV score: 0.9900851341623905\n",
      "User 42, CV score: 0.9891879280334254\n",
      "User 43, CV score: 0.9962986602185385\n",
      "User 44, CV score: 0.995808619544238\n",
      "User 45, CV score: 0.9960276434034773\n",
      "User 46, CV score: 0.9949952775492292\n",
      "User 47, CV score: 0.9960172059772443\n",
      "User 48, CV score: 0.9970390317166872\n",
      "User 49, CV score: 0.9951415052527319\n",
      "User 50, CV score: 0.996434272262735\n",
      "User 51, CV score: 0.9916382113154247\n",
      "User 52, CV score: 0.9961109849881087\n",
      "User 53, CV score: 0.9957876604152786\n",
      "User 54, CV score: 0.9950894139743337\n",
      "User 55, CV score: 0.9972787933854722\n",
      "User 56, CV score: 0.9896577670195402\n",
      "User 57, CV score: 0.9926391771965775\n",
      "User 58, CV score: 0.9966739206147682\n",
      "User 59, CV score: 0.9870403061111178\n",
      "User 60, CV score: 0.9889686300883461\n",
      "User 61, CV score: 0.9944220459052531\n",
      "User 62, CV score: 0.990355863793623\n",
      "User 63, CV score: 0.9959443207049712\n",
      "User 64, CV score: 0.9910332867263878\n",
      "User 65, CV score: 0.99707028591487\n",
      "User 66, CV score: 0.9956836183193051\n",
      "User 67, CV score: 0.9974141652241295\n",
      "User 68, CV score: 0.9957356393672918\n",
      "User 69, CV score: 0.9966741138420175\n",
      "User 70, CV score: 0.9967992647338124\n",
      "User 71, CV score: 0.9960903556552715\n",
      "User 72, CV score: 0.9969970853666035\n",
      "User 73, CV score: 0.9967261910743334\n",
      "User 74, CV score: 0.9922431078122971\n",
      "User 75, CV score: 0.9967365248639005\n",
      "User 76, CV score: 0.9923784133124925\n",
      "User 77, CV score: 0.99753947204497\n",
      "User 78, CV score: 0.9965801469179936\n",
      "User 79, CV score: 0.9964135339791422\n",
      "User 80, CV score: 0.9908042772857825\n",
      "User 81, CV score: 0.9968514271907155\n",
      "User 82, CV score: 0.9942969037454504\n",
      "User 83, CV score: 0.9961838470082602\n",
      "User 84, CV score: 0.9971224672578982\n",
      "User 85, CV score: 0.9951413735239018\n",
      "User 86, CV score: 0.9971326882047608\n",
      "User 87, CV score: 0.9974665155941921\n",
      "User 88, CV score: 0.9892924873646338\n",
      "User 89, CV score: 0.9968304685358027\n",
      "User 90, CV score: 0.9953915343726223\n",
      "User 91, CV score: 0.9941927255546505\n",
      "User 92, CV score: 0.9936610257140952\n",
      "User 93, CV score: 0.984496138759448\n",
      "User 94, CV score: 0.9968825312479894\n",
      "User 95, CV score: 0.9955167143046754\n",
      "User 96, CV score: 0.991909247490658\n",
      "User 97, CV score: 0.9892926282995034\n",
      "User 98, CV score: 0.9982589832107817\n",
      "User 99, CV score: 0.9910124694803913\n",
      "User 100, CV score: 0.9900536625367437\n",
      "User 101, CV score: 0.9943594702223323\n",
      "User 102, CV score: 0.9865084082032703\n",
      "User 103, CV score: 0.9803776735643112\n",
      "User 104, CV score: 0.9813472893945142\n",
      "User 105, CV score: 0.991502599745275\n",
      "User 106, CV score: 0.9956001784120979\n",
      "User 107, CV score: 0.9972996120536092\n",
      "User 108, CV score: 0.9971537597023783\n",
      "User 109, CV score: 0.9973620133954061\n",
      "User 110, CV score: 0.9973934322546268\n",
      "User 111, CV score: 0.9952979490630538\n",
      "User 112, CV score: 0.9969972693878134\n",
      "User 113, CV score: 0.9966322711285994\n",
      "User 114, CV score: 0.9969451117709535\n",
      "User 115, CV score: 0.9957460530673566\n",
      "User 116, CV score: 0.9964655128888822\n",
      "User 117, CV score: 0.9945053400375478\n",
      "User 118, CV score: 0.996747206387622\n",
      "User 119, CV score: 0.9970493461460824\n",
      "User 120, CV score: 0.995454161873876\n",
      "User 121, CV score: 0.9964136240437725\n",
      "User 122, CV score: 0.996423942839164\n",
      "User 123, CV score: 0.9972369792382656\n",
      "User 124, CV score: 0.9957357720442158\n",
      "User 125, CV score: 0.994568000945056\n",
      "User 126, CV score: 0.9969867801432476\n",
      "User 127, CV score: 0.9980712280698544\n",
      "User 128, CV score: 0.9967470983849599\n",
      "User 129, CV score: 0.9954232466778551\n",
      "User 130, CV score: 0.9902203176138418\n",
      "User 131, CV score: 0.9925973015509518\n",
      "User 132, CV score: 0.9969761969421019\n",
      "User 133, CV score: 0.9969032593774493\n",
      "User 134, CV score: 0.9964760200714798\n",
      "User 135, CV score: 0.9977063382873491\n",
      "User 136, CV score: 0.9973829013458609\n",
      "User 137, CV score: 0.9968931473813426\n",
      "User 138, CV score: 0.993316620437608\n",
      "User 139, CV score: 0.9944010920903833\n",
      "User 140, CV score: 0.9962677576464595\n",
      "User 141, CV score: 0.9967159236232278\n",
      "User 142, CV score: 0.9976020612999265\n",
      "User 143, CV score: 0.995579318079761\n",
      "User 144, CV score: 0.9951934744823858\n",
      "User 145, CV score: 0.9974143298851675\n",
      "User 146, CV score: 0.9954957823197867\n",
      "User 147, CV score: 0.9934319416770822\n",
      "User 148, CV score: 0.9965384596595742\n",
      "User 149, CV score: 0.9958609466621792\n",
      "User 150, CV score: 0.9970597128678573\n"
     ]
    }
   ],
   "source": [
    "cv_scores_by_user = {}\n",
    "for user_id in logit_cv_150users.scores_:\n",
    "    cv_scores_by_user[user_id] =logit_cv_150users.scores_[user_id].mean()\n",
    "    print('User {}, CV score: {}'.format(user_id,cv_scores_by_user[user_id]))"
   ]
  },
  {
   "cell_type": "markdown",
   "metadata": {},
   "source": [
    "**Accuracy could seem impressive, but, perhaps, we forget about class disbalance and high accuracy could just be obtained with a constant prediction.  Evaluate the difference between accuracy on cross-validation (we've just evaluated using `LogisticRegressionCV`) and the fraction of labels which differ from user_id (that's the accuracy we get if classificator always says that it is not the $i$-th user in classification task $i$-vs-All) for each user in `y_train_150`.**"
   ]
  },
  {
   "cell_type": "code",
   "execution_count": 37,
   "metadata": {},
   "outputs": [],
   "source": [
    "class_distr = np.bincount(y_train_150.astype('int'))\n",
    "\n",
    "acc_diff_vs_constant ={}\n",
    "for user_id in np.unique(y_train_150):\n",
    "    acc_diff_vs_constant[user_id] = cv_scores_by_user[user_id] - (1-class_distr[user_id]/len(y_train_150))"
   ]
  },
  {
   "cell_type": "code",
   "execution_count": 62,
   "metadata": {},
   "outputs": [],
   "source": [
    "class_distr = np.bincount(y_train_150.astype('int'))\n",
    "\n",
    "acc_diff_vs_constant ={}\n",
    "for user_id in np.unique(y_train_150):\n",
    "    acc_diff_vs_constant[user_id] = cv_scores_by_user[user_id] - (1-class_distr[user_id]/len(y_train_150))"
   ]
  },
  {
   "cell_type": "code",
   "execution_count": 38,
   "metadata": {},
   "outputs": [],
   "source": [
    "num_better_than_default = (np.array(list(acc_diff_vs_constant.values())) > 0).sum()"
   ]
  },
  {
   "cell_type": "code",
   "execution_count": 39,
   "metadata": {},
   "outputs": [
    {
     "data": {
      "text/plain": [
       "134"
      ]
     },
     "execution_count": 39,
     "metadata": {},
     "output_type": "execute_result"
    }
   ],
   "source": [
    "num_better_than_default"
   ]
  },
  {
   "cell_type": "code",
   "execution_count": 64,
   "metadata": {},
   "outputs": [
    {
     "data": {
      "text/plain": [
       "137"
      ]
     },
     "execution_count": 64,
     "metadata": {},
     "output_type": "execute_result"
    }
   ],
   "source": [
    "num_better_than_default"
   ]
  },
  {
   "cell_type": "markdown",
   "metadata": {},
   "source": [
    "**<font color='red'>Question 7. </font> Evaluate the fraction of users where `LogisticRegressionCV` performs better than just a constant prediction. Round your answer up to the third digit after the decimal point.**"
   ]
  },
  {
   "cell_type": "code",
   "execution_count": 40,
   "metadata": {},
   "outputs": [
    {
     "data": {
      "text/plain": [
       "0.8933333333333333"
      ]
     },
     "execution_count": 40,
     "metadata": {},
     "output_type": "execute_result"
    }
   ],
   "source": [
    "134/150"
   ]
  },
  {
   "cell_type": "markdown",
   "metadata": {},
   "source": [
    "**Next step is to plot learning curves for a particular user, let's say for 128-th. Make a new binary vector using `y_150users`, its values are 1 or 0 depending on whether user_id=128 or not.**"
   ]
  },
  {
   "cell_type": "code",
   "execution_count": 69,
   "metadata": {},
   "outputs": [],
   "source": [
    "y_binary_128 = (y_150users==128).astype(int)"
   ]
  },
  {
   "cell_type": "code",
   "execution_count": 71,
   "metadata": {},
   "outputs": [],
   "source": [
    "from sklearn.model_selection import learning_curve\n",
    "\n",
    "def plot_learning_curve(val_train, val_test, train_sizes, \n",
    "                        xlabel='Training Set Size', ylabel='score'):\n",
    "    def plot_with_err(x, data, **kwargs):\n",
    "        mu, std = data.mean(1), data.std(1)\n",
    "        lines = plt.plot(x, mu, '-', **kwargs)\n",
    "        plt.fill_between(x, mu - std, mu + std, edgecolor='none',\n",
    "                         facecolor=lines[0].get_color(), alpha=0.2)\n",
    "    plot_with_err(train_sizes, val_train, label='train')\n",
    "    plot_with_err(train_sizes, val_test, label='valid')\n",
    "    plt.xlabel(xlabel); plt.ylabel(ylabel)\n",
    "    plt.legend(loc='lower right');"
   ]
  },
  {
   "cell_type": "markdown",
   "metadata": {},
   "source": [
    "**Evaluate accuracy on cross-validation at \"user128-vs-All\" task depending on train size. It would be useful to check the documentation for `learning_curve`.**"
   ]
  },
  {
   "cell_type": "code",
   "execution_count": 85,
   "metadata": {},
   "outputs": [
    {
     "name": "stdout",
     "output_type": "stream",
     "text": [
      "Wall time: 6.5 s\n"
     ]
    }
   ],
   "source": [
    "%%time\n",
    "train_sizes = np.linspace(0.25, 1, 20)\n",
    "estimator = svm_grid_searcher2.best_estimator_\n",
    "n_train, val_train, val_test = learning_curve(estimator, X_sparse_150users, y_binary_128, n_jobs=-1,cv=3,shuffle =True)"
   ]
  },
  {
   "cell_type": "code",
   "execution_count": 86,
   "metadata": {},
   "outputs": [
    {
     "data": {
      "image/png": "[encoded data removed]",
      "text/plain": [
       "<Figure size 432x288 with 1 Axes>"
      ]
     },
     "metadata": {},
     "output_type": "display_data"
    }
   ],
   "source": [
    "plot_learning_curve(val_train, val_test, n_train, \n",
    "                    xlabel='train_size', ylabel='accuracy')"
   ]
  },
  {
   "cell_type": "markdown",
   "metadata": {},
   "source": [
    "**Make a conclusion whether new data helps to improve the model's accuracy with the same problem definition.**"
   ]
  },
  {
   "cell_type": "markdown",
   "metadata": {},
   "source": [
    "Next week, we will recall linear models trained with stochastic gradient descend, and enjoy how faster they work."
   ]
  }
 ],
 "metadata": {
  "anaconda-cloud": {},
  "kernelspec": {
   "display_name": "Python 3",
   "language": "python",
   "name": "python3"
  },
  "language_info": {
   "codemirror_mode": {
    "name": "ipython",
    "version": 3
   },
   "file_extension": ".py",
   "mimetype": "text/x-python",
   "name": "python",
   "nbconvert_exporter": "python",
   "pygments_lexer": "ipython3",
   "version": "3.6.5"
  }
 },
 "nbformat": 4,
 "nbformat_minor": 1
}
