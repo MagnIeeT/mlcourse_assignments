{
 "cells": [
  {
   "cell_type": "markdown",
   "metadata": {},
   "source": [
    "## Longest common subarray"
   ]
  },
  {
   "cell_type": "code",
   "execution_count": 1,
   "metadata": {},
   "outputs": [],
   "source": [
    "def LCS(X,Y,m,n):\n",
    "    if m==0 or n==0:\n",
    "        return 0;\n",
    "    elif X[m-1]==Y[n-1]:\n",
    "        return 1+ LCS(X,Y,m-1,n-1);\n",
    "    else:\n",
    "        return max(LCS(X,Y,m,n-1),LCS(X,Y,m-1,n))"
   ]
  },
  {
   "cell_type": "code",
   "execution_count": 4,
   "metadata": {},
   "outputs": [
    {
     "data": {
      "text/plain": [
       "4"
      ]
     },
     "execution_count": 4,
     "metadata": {},
     "output_type": "execute_result"
    }
   ],
   "source": [
    "X = 'AGGTAB'\n",
    "Y = 'GXTXAYB'\n",
    "LCS(X,Y,6,7)"
   ]
  },
  {
   "cell_type": "markdown",
   "metadata": {},
   "source": [
    "#### With DP"
   ]
  },
  {
   "cell_type": "code",
   "execution_count": 9,
   "metadata": {},
   "outputs": [],
   "source": [
    "def lcs(X,Y):\n",
    "    m = len(X)\n",
    "    n = len(Y)\n",
    "    \n",
    "    L = [[None]*(n+1) for i in range(m+1)]\n",
    "    \n",
    "    for i in range(m+1):\n",
    "        for j in range(n+1):\n",
    "            if i==0 or j==0:\n",
    "                L[i][j]=0\n",
    "            elif X[i-1]==Y[j-1]:\n",
    "                L[i][j]=L[i-1][j-1]+1\n",
    "            else:\n",
    "                L[i][j] = max(L[i-1][j],L[i][j-1])\n",
    "                \n",
    "    return L[m][n]\n",
    "    "
   ]
  },
  {
   "cell_type": "code",
   "execution_count": 10,
   "metadata": {},
   "outputs": [
    {
     "data": {
      "text/plain": [
       "4"
      ]
     },
     "execution_count": 10,
     "metadata": {},
     "output_type": "execute_result"
    }
   ],
   "source": [
    "X = 'AGGTAB'\n",
    "Y = 'GXTXAYB'\n",
    "lcs(X,Y)"
   ]
  },
  {
   "cell_type": "markdown",
   "metadata": {},
   "source": [
    "## Longest Increasing Subsequence"
   ]
  },
  {
   "cell_type": "code",
   "execution_count": 28,
   "metadata": {},
   "outputs": [],
   "source": [
    "global maximum\n",
    "def _lis(arr,n):\n",
    "    global maximum\n",
    "    \n",
    "    if n==1:\n",
    "        return 1\n",
    "    \n",
    "    maxEndingHere =1\n",
    "    \n",
    "    for i in range(1,n):\n",
    "        res = _lis(arr,i)\n",
    "        if arr[i-1] < arr[n-1] and res+1 > maxEndingHere:\n",
    "            maxEndingHere=res+1\n",
    "            \n",
    "            \n",
    "    maximum = max(maximum,maxEndingHere)\n",
    "    return maxEndingHere\n",
    "\n",
    "\n",
    "def lis(arr):\n",
    "    global maximum\n",
    "    n = len(arr)\n",
    "    maximum=1\n",
    "    \n",
    "    _lis(arr,n)\n",
    "    return maximum"
   ]
  },
  {
   "cell_type": "code",
   "execution_count": 29,
   "metadata": {},
   "outputs": [
    {
     "data": {
      "text/plain": [
       "5"
      ]
     },
     "execution_count": 29,
     "metadata": {},
     "output_type": "execute_result"
    }
   ],
   "source": [
    "arr = [10 , 22 , 9 , 33 , 21 , 50 , 41 , 60] \n",
    "n = len(arr) \n",
    "lis(arr)"
   ]
  },
  {
   "cell_type": "markdown",
   "metadata": {},
   "source": [
    "#### DP"
   ]
  },
  {
   "cell_type": "code",
   "execution_count": 32,
   "metadata": {},
   "outputs": [
    {
     "data": {
      "text/plain": [
       "5"
      ]
     },
     "execution_count": 32,
     "metadata": {},
     "output_type": "execute_result"
    }
   ],
   "source": [
    "def lis(arr):\n",
    "    n = len(arr)\n",
    "    lis = [1]*n\n",
    "    \n",
    "    for i in range(1,n):\n",
    "        for j in range(0,i):\n",
    "            if arr[i]>arr[j] and lis[i]<lis[j]+1:\n",
    "                lis[i] = lis[j]+1                \n",
    "    return max(lis)\n",
    "\n",
    "arr = [10 , 22 , 9 , 33 , 21 , 50 , 41 , 60] \n",
    "lis(arr)"
   ]
  },
  {
   "cell_type": "markdown",
   "metadata": {},
   "source": [
    "## Edit Distance"
   ]
  },
  {
   "cell_type": "code",
   "execution_count": 34,
   "metadata": {},
   "outputs": [],
   "source": [
    "def editDistance(str1,str2,m,n):\n",
    "    if m==0:\n",
    "        return n\n",
    "    if n==0:\n",
    "        return m\n",
    "    if str1[m-1]==str2[n-1]:\n",
    "        return editDistance(str1,str2,m-1,n-1)\n",
    "    \n",
    "    return 1+min(editDistance(str1, str2, m, n-1),    # Insert \n",
    "                   editDistance(str1, str2, m-1, n),    # Remove \n",
    "                   editDistance(str1, str2, m-1, n-1)    # Replace \n",
    "                   )\n",
    "    "
   ]
  },
  {
   "cell_type": "code",
   "execution_count": 36,
   "metadata": {},
   "outputs": [
    {
     "data": {
      "text/plain": [
       "3"
      ]
     },
     "execution_count": 36,
     "metadata": {},
     "output_type": "execute_result"
    }
   ],
   "source": [
    "str1 = \"sunday\"\n",
    "str2 = \"saturday\"\n",
    "editDistance(str1, str2, len(str1), len(str2)) "
   ]
  },
  {
   "cell_type": "markdown",
   "metadata": {},
   "source": [
    "#### DP"
   ]
  },
  {
   "cell_type": "code",
   "execution_count": 38,
   "metadata": {},
   "outputs": [],
   "source": [
    "def editDistDP(str1,str2,m,n):\n",
    "    dp = [[0 for x in range(n+1)] for x in range(m+1)]\n",
    "    \n",
    "    for i in range(m+1):\n",
    "        for j in range(n+1):\n",
    "            \n",
    "            if i ==0:\n",
    "                dp[i][j] = j\n",
    "                \n",
    "            elif j ==0:\n",
    "                dp[i][j]=i\n",
    "                \n",
    "            elif str1[i-1]==str2[j-1]:\n",
    "                dp[i][j]= dp[i-1][j-1]\n",
    "            \n",
    "            else:\n",
    "                dp[i][j]= 1+ min(dp[i][j-1],\n",
    "                                dp[i-1][j],\n",
    "                                dp[i-1][j-1])\n",
    "                \n",
    "    return dp[m][n]\n",
    "    "
   ]
  },
  {
   "cell_type": "code",
   "execution_count": 39,
   "metadata": {},
   "outputs": [
    {
     "data": {
      "text/plain": [
       "3"
      ]
     },
     "execution_count": 39,
     "metadata": {},
     "output_type": "execute_result"
    }
   ],
   "source": [
    "str1 = \"sunday\"\n",
    "str2 = \"saturday\"\n",
    "editDistDP(str1, str2, len(str1), len(str2)) "
   ]
  },
  {
   "cell_type": "markdown",
   "metadata": {},
   "source": [
    "## Find min sum"
   ]
  },
  {
   "cell_type": "code",
   "execution_count": 40,
   "metadata": {},
   "outputs": [
    {
     "data": {
      "text/plain": [
       "1"
      ]
     },
     "execution_count": 40,
     "metadata": {},
     "output_type": "execute_result"
    }
   ],
   "source": [
    "def findminRec(arr, n, sumCal, totSum):\n",
    "    \n",
    "    if n==0:\n",
    "        return abs((totSum-sumCal)-sumCal)\n",
    "    \n",
    "    return min(findminRec(arr, n-1, sumCal+arr[n-1], totSum), findminRec(arr,n-1,sumCal,totSum))\n",
    "\n",
    "arr = [3,1,4,2,2,1]\n",
    "n = len(arr)\n",
    "totSum =sum(arr)\n",
    "\n",
    "findminRec(arr,n,0,totSum)    "
   ]
  },
  {
   "cell_type": "markdown",
   "metadata": {},
   "source": [
    "## Count number of ways to cover a distance"
   ]
  },
  {
   "cell_type": "code",
   "execution_count": 41,
   "metadata": {},
   "outputs": [],
   "source": [
    "def printCountRec(dist):\n",
    "    if dist < 0:\n",
    "        return 0\n",
    "    if dist ==0:\n",
    "        return 1\n",
    "    \n",
    "    return(printCountRec(dist-1)+printCountRec(dist-2)+ printCountRec(dist-3))"
   ]
  },
  {
   "cell_type": "code",
   "execution_count": 43,
   "metadata": {},
   "outputs": [
    {
     "data": {
      "text/plain": [
       "7"
      ]
     },
     "execution_count": 43,
     "metadata": {},
     "output_type": "execute_result"
    }
   ],
   "source": [
    "printCountRec(4)"
   ]
  },
  {
   "cell_type": "markdown",
   "metadata": {},
   "source": [
    "#### DP"
   ]
  },
  {
   "cell_type": "code",
   "execution_count": 46,
   "metadata": {},
   "outputs": [],
   "source": [
    "def printCountdp(dist):\n",
    "    count = [0]*(dist+1)\n",
    "    \n",
    "    count[0] = 1\n",
    "    count[1] = 1\n",
    "    count[2] = 2\n",
    "    \n",
    "    for i in range(3,dist+1):\n",
    "        count[i] = count[i-1] + count[i-2] + count[i-3]\n",
    "        \n",
    "    return count[dist]\n",
    "    \n"
   ]
  },
  {
   "cell_type": "code",
   "execution_count": 47,
   "metadata": {},
   "outputs": [
    {
     "data": {
      "text/plain": [
       "7"
      ]
     },
     "execution_count": 47,
     "metadata": {},
     "output_type": "execute_result"
    }
   ],
   "source": [
    "printCountdp(4)"
   ]
  },
  {
   "cell_type": "markdown",
   "metadata": {},
   "source": [
    "## Subset Sum Problem"
   ]
  },
  {
   "cell_type": "code",
   "execution_count": 48,
   "metadata": {},
   "outputs": [],
   "source": [
    "def isSubsetsum(set,n,sum):\n",
    "    \n",
    "    if sum==0:\n",
    "        return True\n",
    "    \n",
    "    if (n==0 and sum !=0):\n",
    "        return False\n",
    "    \n",
    "    if (set[n-1] > sum):\n",
    "        return isSubsetsum(set,n-1,sum)\n",
    "    \n",
    "    return isSubsetsum(set,n-1,sum-set[n-1]) or isSubsetsum(set,n-1,sum)"
   ]
  },
  {
   "cell_type": "code",
   "execution_count": 49,
   "metadata": {},
   "outputs": [
    {
     "data": {
      "text/plain": [
       "True"
      ]
     },
     "execution_count": 49,
     "metadata": {},
     "output_type": "execute_result"
    }
   ],
   "source": [
    "set = [3, 34, 4, 12, 5, 2] \n",
    "sum = 9\n",
    "n = len(set)\n",
    "isSubsetsum(set,n,sum)"
   ]
  },
  {
   "cell_type": "markdown",
   "metadata": {},
   "source": [
    "#### DP"
   ]
  },
  {
   "cell_type": "code",
   "execution_count": 56,
   "metadata": {},
   "outputs": [],
   "source": [
    "def isSubsetsumDp(set,n,sum):\n",
    "    subset = [[False for i in range(sum+1)] for i in range(n+1)]\n",
    "    \n",
    "    for i in range(n+1):\n",
    "        subset[i][0]= True\n",
    "        \n",
    "    for j in range(1,sum+1):\n",
    "        subset[0][j] = False\n",
    "        \n",
    "    for i in range(1,n+1):\n",
    "        for j in range(1,sum+1):\n",
    "            if set[i-1] > j:\n",
    "                subset[i][j]=subset[i-1][j]\n",
    "            if set[i-1] <=j:\n",
    "                subset[i][j] = subset[i-1][j] or subset[i-1][j-set[i-1]]\n",
    "                \n",
    "    return subset[n][sum]"
   ]
  },
  {
   "cell_type": "code",
   "execution_count": 60,
   "metadata": {},
   "outputs": [
    {
     "data": {
      "text/plain": [
       "True"
      ]
     },
     "execution_count": 60,
     "metadata": {},
     "output_type": "execute_result"
    }
   ],
   "source": [
    "set = [3, 34, 4, 12, 5, 2] \n",
    "sum = 10\n",
    "n = len(set)\n",
    "isSubsetsumDp(set,n,sum)"
   ]
  },
  {
   "cell_type": "code",
   "execution_count": null,
   "metadata": {},
   "outputs": [],
   "source": []
  },
  {
   "cell_type": "code",
   "execution_count": null,
   "metadata": {},
   "outputs": [],
   "source": []
  },
  {
   "cell_type": "code",
   "execution_count": null,
   "metadata": {},
   "outputs": [],
   "source": []
  },
  {
   "cell_type": "code",
   "execution_count": null,
   "metadata": {},
   "outputs": [],
   "source": []
  },
  {
   "cell_type": "code",
   "execution_count": null,
   "metadata": {},
   "outputs": [],
   "source": []
  },
  {
   "cell_type": "code",
   "execution_count": null,
   "metadata": {},
   "outputs": [],
   "source": []
  },
  {
   "cell_type": "code",
   "execution_count": null,
   "metadata": {},
   "outputs": [],
   "source": []
  },
  {
   "cell_type": "code",
   "execution_count": null,
   "metadata": {},
   "outputs": [],
   "source": []
  },
  {
   "cell_type": "code",
   "execution_count": null,
   "metadata": {},
   "outputs": [],
   "source": []
  },
  {
   "cell_type": "code",
   "execution_count": null,
   "metadata": {},
   "outputs": [],
   "source": []
  },
  {
   "cell_type": "code",
   "execution_count": null,
   "metadata": {},
   "outputs": [],
   "source": []
  }
 ],
 "metadata": {
  "kernelspec": {
   "display_name": "Python 3",
   "language": "python",
   "name": "python3"
  },
  "language_info": {
   "codemirror_mode": {
    "name": "ipython",
    "version": 3
   },
   "file_extension": ".py",
   "mimetype": "text/x-python",
   "name": "python",
   "nbconvert_exporter": "python",
   "pygments_lexer": "ipython3",
   "version": "3.6.5"
  }
 },
 "nbformat": 4,
 "nbformat_minor": 2
}
